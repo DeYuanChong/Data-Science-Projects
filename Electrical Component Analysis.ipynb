{
 "cells": [
  {
   "cell_type": "markdown",
   "metadata": {},
   "source": [
    "## Overall Approach:\n",
    "1) Create unacceptable samples given the acceptable ones (By rotation of chips due to the only difference being the orientation of the chip)\n",
    "\n",
    "2) Load all the samples (Unacceptable/Acceptable) into a list using cv2 to represent them as pixels\n",
    "\n",
    "3) Load all the labels (Unacceptable - 0 / Acceptable - 1) into a separate list \n",
    "\n",
    "4) Simple convolutional neural network with 2 layers of convolution and pooling (to reduce computation time)\n",
    "\n",
    "5) Final evaluation of overall accuracy of model"
   ]
  },
  {
   "cell_type": "markdown",
   "metadata": {},
   "source": [
    "Importing necessary libraries"
   ]
  },
  {
   "cell_type": "code",
   "execution_count": 2,
   "metadata": {},
   "outputs": [],
   "source": [
    "import cv2\n",
    "import numpy as np\n",
    "import sys\n",
    "import glob\n",
    "import tensorflow as tf\n",
    "import skimage\n",
    "\n",
    "from sklearn.model_selection import train_test_split\n"
   ]
  },
  {
   "cell_type": "markdown",
   "metadata": {},
   "source": [
    "Parameters for training"
   ]
  },
  {
   "cell_type": "code",
   "execution_count": 3,
   "metadata": {},
   "outputs": [],
   "source": [
    "TEST_SIZE = 0.2\n",
    "EPOCHS = 5"
   ]
  },
  {
   "cell_type": "markdown",
   "metadata": {},
   "source": [
    "Data Handling, Sample Creation"
   ]
  },
  {
   "cell_type": "code",
   "execution_count": 4,
   "metadata": {},
   "outputs": [],
   "source": [
    "'''Insert wherever the acceptable folder is located'''\n",
    "\n",
    "base = r'C:\\Users\\De Yuan\\Downloads\\NUS\\Intern\\XRVision\\Acceptable'\n",
    "Faulty = r'C:\\Users\\De Yuan\\Downloads\\NUS\\Intern\\XRVision\\Faulty'"
   ]
  },
  {
   "cell_type": "code",
   "execution_count": 18,
   "metadata": {},
   "outputs": [],
   "source": [
    "'''Rotate each picture to create more faulty samples'''\n",
    "i = 0\n",
    "\n",
    "'''for img in glob.glob(base + \"/*.jpg\"):\n",
    "    image = cv2.imread(img)\n",
    "    image_rotcw1 = cv2.rotate(image, cv2.ROTATE_90_CLOCKWISE)\n",
    "    image_rotcw2 = cv2.rotate(image, cv2.ROTATE_180)\n",
    "    image_rotcw3 = cv2.rotate(image, cv2.ROTATE_90_COUNTERCLOCKWISE)\n",
    "    cv2.imwrite(\"Faulty/chip_%04i_rotcw1.jpg\" %i,image_rotcw1)\n",
    "    cv2.imwrite(\"Faulty/chip_%04i_rotcw2.jpg\" %i,image_rotcw2)\n",
    "    cv2.imwrite(\"Faulty/chip_%04i_rotcw3.jpg\" %i,image_rotcw3)\n",
    "    i+=1'''\n",
    "\n",
    "'''Augmentation of Data in Acceptable Dataset'''\n",
    "    \n",
    "for img in glob.glob(base + \"/*.jpg\"):\n",
    "    image = cv2.imread(img)\n",
    "    image_blur1 = cv2.GaussianBlur(image,(3,3),0)\n",
    "    image_blur2 = cv2.GaussianBlur(image,(5,5),0)\n",
    "    cv2.imwrite(\"Acceptable/chip_%04i_blur1.jpg\" %i,image_blur1)\n",
    "    cv2.imwrite(\"Acceptable/chip_%04i_blur2.jpg\" %i,image_blur2)\n",
    "    i+=1"
   ]
  },
  {
   "cell_type": "code",
   "execution_count": 46,
   "metadata": {},
   "outputs": [],
   "source": [
    "Faulty = r'C:\\Users\\De Yuan\\Downloads\\NUS\\Intern\\XRVision\\Faulty'\n",
    "\n",
    "images = []\n",
    "labels = []\n",
    "\n",
    "for img in glob.glob(base + \"/*.jpg\"):\n",
    "    image = cv2.imread(img,0) # Read in Grayscale\n",
    "    images.append(image)\n",
    "    labels.append(1)\n",
    "    \n",
    "# 1 represents acceptable, 0 represents faulty\n",
    "\n",
    "for img in glob.glob(Faulty+\"/*.jpg\"):\n",
    "    image = cv2.imread(img,0) # Read in Grayscale\n",
    "    images.append(image)\n",
    "    labels.append(0)"
   ]
  },
  {
   "cell_type": "code",
   "execution_count": 6,
   "metadata": {},
   "outputs": [],
   "source": [
    "acceptable = cv2.imread(base + '\\chips (145).jpg',0)\n",
    "cv2.imshow('Example of acceptable chip orientation',acceptable)\n",
    "\n",
    "faulty1 = cv2.imread(Faulty + '\\chip_0001_rotcw1.jpg',0)\n",
    "faulty2 = cv2.imread(Faulty + '\\chip_0001_rotcw2.jpg',0)\n",
    "faulty3 = cv2.imread(Faulty + '\\chip_0001_rotcw3.jpg',0)\n",
    "allfaulty = np.concatenate((faulty1,faulty2,faulty3),axis = 1)\n",
    "\n",
    "cv2.imshow('Example of unacceptable chip orientation',allfaulty)\n",
    "\n",
    "cv2.waitKey(0)\n",
    "cv2.destroyAllWindows()"
   ]
  },
  {
   "cell_type": "code",
   "execution_count": 57,
   "metadata": {},
   "outputs": [],
   "source": [
    "images = np.array(images)\n",
    "\n",
    "# Reshaping to add greyscale channel\n",
    "images = images.reshape(len(images),55,55,1)"
   ]
  },
  {
   "cell_type": "markdown",
   "metadata": {},
   "source": [
    "Model Building and splitting of training and test data"
   ]
  },
  {
   "cell_type": "code",
   "execution_count": 58,
   "metadata": {},
   "outputs": [],
   "source": [
    "def get_model():\n",
    "    model = tf.keras.models.Sequential([\n",
    "        tf.keras.layers.Conv2D(32, (3,3), activation = 'relu', input_shape = (55,55,1)),\n",
    "        # Pooling layer, to reduce size of feature maps\n",
    "        # Repeat Convolution and Pooling\n",
    "        tf.keras.layers.MaxPooling2D(pool_size=(2,2)),\n",
    "        tf.keras.layers.Conv2D(32,(3,3),activation='relu'),\n",
    "        tf.keras.layers.MaxPooling2D(pool_size=(2,2)),\n",
    "        tf.keras.layers.Flatten(),\n",
    "        #Add hidden layer with dropout\n",
    "        tf.keras.layers.Dense(128,activation ='relu'),\n",
    "        tf.keras.layers.Dropout(0.2),\n",
    "        tf.keras.layers.Dense(128,activation ='relu'),\n",
    "        tf.keras.layers.Dropout(0.2),\n",
    "        tf.keras.layers.Dense(128,activation ='relu'),\n",
    "        tf.keras.layers.Dropout(0.2),\n",
    "        #Add output\n",
    "        tf.keras.layers.Dense(1,activation = 'sigmoid')]) # Binary outcome, sigmoid is chosen.\n",
    "    \n",
    "    model.compile(\n",
    "        optimizer = 'adam',\n",
    "        loss='binary_crossentropy',\n",
    "        metrics=['accuracy'])\n",
    "    return model"
   ]
  },
  {
   "cell_type": "code",
   "execution_count": 59,
   "metadata": {},
   "outputs": [],
   "source": [
    "x_train, x_test, y_train, y_test = train_test_split(np.array(images), np.array(labels), test_size=TEST_SIZE)\n"
   ]
  },
  {
   "cell_type": "code",
   "execution_count": 60,
   "metadata": {},
   "outputs": [
    {
     "data": {
      "text/plain": [
       "array([1, 0, 1, 1, 1, 0, 0, 0, 0, 0, 0, 1, 0, 0, 0, 0, 1, 0, 0, 1, 0, 1,\n",
       "       0, 0, 0, 1, 1, 1, 0, 1, 1, 1, 1, 1, 1, 0, 0, 0, 1, 1, 1, 0, 0, 1,\n",
       "       1, 1, 1, 0, 1, 0, 0, 1, 0, 1, 0, 1, 1, 0, 1, 1, 0, 1, 1, 1, 1, 1,\n",
       "       0, 0, 0, 1, 1, 0, 1, 1, 1, 1, 1, 1, 0, 0, 0, 0, 1, 0, 0, 0, 0, 1,\n",
       "       1, 1, 1, 0, 0, 0, 0, 1, 0, 0, 0, 1, 0, 0, 1, 1, 1, 1, 0, 0, 0, 1,\n",
       "       0, 0, 0, 0, 0, 1, 1, 0, 1, 0, 0, 0, 1, 1, 0, 0, 0, 1, 0, 1, 1, 0,\n",
       "       0, 1, 0, 1, 1, 0, 1, 1, 0, 0, 1, 1, 1, 0, 1, 1, 1, 0, 1, 0, 0, 0,\n",
       "       1, 0, 0, 1, 0, 1, 0, 1, 1, 0, 0, 0, 1, 0, 0, 1, 1, 0, 0, 0, 1, 0,\n",
       "       0, 1, 1, 1, 1, 1, 0, 1, 1, 0, 1, 1, 1, 1, 1, 0, 1, 0, 1, 0, 1, 1,\n",
       "       1, 0, 1, 0, 0, 0, 1, 1, 1, 1, 0, 1, 1, 0, 0, 1, 1, 1, 0, 0, 1, 0,\n",
       "       1, 1, 0, 1, 0, 1, 1, 1, 0, 1, 1, 0, 0, 0, 1, 1, 0, 0, 1, 1, 1, 1,\n",
       "       0, 0, 1, 0, 1, 0, 1, 1, 0, 1, 0, 0, 1, 0, 0, 1, 0, 1, 1, 1, 1, 1,\n",
       "       1, 0, 1, 1, 1, 0, 0, 1, 0, 1, 1, 1, 0, 1, 1, 0, 0, 0, 1, 0, 1, 1,\n",
       "       1, 0, 0, 1, 0, 0, 1, 0, 0, 1, 1, 1, 0, 0, 1, 0, 1, 0, 1, 1, 1, 1,\n",
       "       0, 1, 0, 0, 0, 1, 0, 1, 0, 1, 1, 1, 0, 1, 0, 0, 0, 0, 1, 1, 1, 0,\n",
       "       1, 1, 1, 0, 1, 1, 1, 0, 0, 1, 0, 1, 1, 1, 0, 0, 1, 1, 0, 1, 1, 1,\n",
       "       0, 1, 1, 0, 0, 0, 0, 0, 0, 1, 0, 1, 1, 1, 1, 1, 0, 0, 0, 0, 1, 1,\n",
       "       1, 0, 1, 1, 0, 1, 0, 0, 1, 0, 0, 1, 0, 1, 1, 0, 0, 0, 0, 0, 1, 0,\n",
       "       1, 0, 0, 1, 0, 1, 1, 0, 1, 1, 0, 1, 1, 1, 1, 1, 0, 0, 1, 0, 0, 0,\n",
       "       0, 0, 1, 0, 0, 1, 1, 0, 1, 0, 1, 0, 0, 0, 0, 0, 1, 1, 0, 0, 0, 0,\n",
       "       1, 1, 1, 0, 0, 0, 0, 1, 1, 1, 0, 1, 1, 1, 0, 0, 0, 1, 1, 0, 1, 0,\n",
       "       0, 0, 1, 0, 1, 0, 0, 0, 0, 0, 1, 1, 0, 0, 1, 1, 1, 1, 1, 0, 0, 1,\n",
       "       1, 0, 0, 0, 1, 0, 1, 0, 1, 0, 1, 1, 0, 0, 1, 1, 1, 1, 1, 1, 0, 0,\n",
       "       0, 0, 1, 1, 0, 0, 1, 0, 0, 0, 1, 1, 0, 1, 1, 0, 0, 1, 0, 1, 1, 0,\n",
       "       1, 0, 0, 1, 0, 1, 0, 0, 1, 1, 1, 1, 0, 0, 0, 0, 1, 1, 0, 0, 0, 1,\n",
       "       0, 0, 1, 0, 1, 0, 0, 0, 1, 1, 1, 0, 1, 0, 1, 1, 1, 0, 0, 0, 1, 0,\n",
       "       0, 0, 1, 1, 0, 1, 0, 1, 0, 1, 1, 0, 0, 0, 0, 0, 0, 0, 0, 0, 0, 0,\n",
       "       0, 0, 0, 0, 0, 1, 1, 1, 1, 0, 0, 1, 1, 1, 0, 0, 1, 1, 1, 1, 1, 0,\n",
       "       0, 0, 1, 0, 1, 1, 1, 1, 1, 1, 0, 0, 0, 1, 0, 1, 1, 0, 0, 0, 1, 0,\n",
       "       1, 0, 0, 0, 0, 1, 0, 0, 1, 1, 0, 1, 0, 1, 1, 0, 0, 0, 1, 1, 0, 0,\n",
       "       0, 0, 0, 1, 0, 1, 0, 0, 1, 0, 1, 1, 0, 0, 1, 0, 1, 0, 1, 0, 0, 1,\n",
       "       0, 0, 1, 1, 1, 0, 1, 1, 1, 0, 1, 1, 0, 1, 1, 0, 1, 1, 1, 1, 0, 0,\n",
       "       0, 0, 1, 0, 0, 0, 1, 1, 1, 1, 0, 1, 0, 0, 1, 0])"
      ]
     },
     "execution_count": 60,
     "metadata": {},
     "output_type": "execute_result"
    }
   ],
   "source": [
    "y_test"
   ]
  },
  {
   "cell_type": "markdown",
   "metadata": {},
   "source": [
    "Final Training and Testing of Model ( ~100% Accuracy in about 5 epochs is achieved)"
   ]
  },
  {
   "cell_type": "code",
   "execution_count": 61,
   "metadata": {},
   "outputs": [
    {
     "name": "stdout",
     "output_type": "stream",
     "text": [
      "Epoch 1/5\n",
      "90/90 [==============================] - 7s 76ms/step - loss: 0.5722 - accuracy: 0.9323\n",
      "Epoch 2/5\n",
      "90/90 [==============================] - 7s 77ms/step - loss: 0.0100 - accuracy: 0.9965\n",
      "Epoch 3/5\n",
      "90/90 [==============================] - 7s 77ms/step - loss: 0.0017 - accuracy: 0.9990\n",
      "Epoch 4/5\n",
      "90/90 [==============================] - 7s 76ms/step - loss: 0.0051 - accuracy: 0.9990\n",
      "Epoch 5/5\n",
      "90/90 [==============================] - 7s 76ms/step - loss: 0.0035 - accuracy: 0.9993\n",
      "23/23 - 0s - loss: 6.2326e-06 - accuracy: 1.0000\n"
     ]
    },
    {
     "data": {
      "text/plain": [
       "[6.232623491086997e-06, 1.0]"
      ]
     },
     "execution_count": 61,
     "metadata": {},
     "output_type": "execute_result"
    }
   ],
   "source": [
    "# Get a compiled neural network\n",
    "model = get_model()\n",
    "\n",
    "# Fit model on training data\n",
    "model.fit(x_train, y_train, epochs=EPOCHS)\n",
    "\n",
    "# Evaluate neural network performance\n",
    "model.evaluate(x_test,  y_test, verbose=2)"
   ]
  },
  {
   "cell_type": "code",
   "execution_count": 73,
   "metadata": {},
   "outputs": [
    {
     "name": "stdout",
     "output_type": "stream",
     "text": [
      "Model: \"sequential_15\"\n",
      "_________________________________________________________________\n",
      "Layer (type)                 Output Shape              Param #   \n",
      "=================================================================\n",
      "conv2d_30 (Conv2D)           (None, 53, 53, 32)        320       \n",
      "_________________________________________________________________\n",
      "max_pooling2d_30 (MaxPooling (None, 26, 26, 32)        0         \n",
      "_________________________________________________________________\n",
      "conv2d_31 (Conv2D)           (None, 24, 24, 32)        9248      \n",
      "_________________________________________________________________\n",
      "max_pooling2d_31 (MaxPooling (None, 12, 12, 32)        0         \n",
      "_________________________________________________________________\n",
      "flatten_15 (Flatten)         (None, 4608)              0         \n",
      "_________________________________________________________________\n",
      "dense_60 (Dense)             (None, 128)               589952    \n",
      "_________________________________________________________________\n",
      "dropout_45 (Dropout)         (None, 128)               0         \n",
      "_________________________________________________________________\n",
      "dense_61 (Dense)             (None, 128)               16512     \n",
      "_________________________________________________________________\n",
      "dropout_46 (Dropout)         (None, 128)               0         \n",
      "_________________________________________________________________\n",
      "dense_62 (Dense)             (None, 128)               16512     \n",
      "_________________________________________________________________\n",
      "dropout_47 (Dropout)         (None, 128)               0         \n",
      "_________________________________________________________________\n",
      "dense_63 (Dense)             (None, 1)                 129       \n",
      "=================================================================\n",
      "Total params: 632,673\n",
      "Trainable params: 632,673\n",
      "Non-trainable params: 0\n",
      "_________________________________________________________________\n"
     ]
    }
   ],
   "source": [
    "model.summary()"
   ]
  },
  {
   "cell_type": "code",
   "execution_count": 76,
   "metadata": {},
   "outputs": [
    {
     "data": {
      "text/plain": [
       "array([1.], dtype=float32)"
      ]
     },
     "execution_count": 76,
     "metadata": {},
     "output_type": "execute_result"
    }
   ],
   "source": [
    "np.round(model.predict((x_test)))[0]"
   ]
  },
  {
   "cell_type": "markdown",
   "metadata": {},
   "source": [
    "# Conclusion\n",
    "- This was a relatively simple CNN, in terms of model building, but the main bulk of the problem lied in the data augmentation, as only the acceptable samples were given. \n",
    "- Rotation of the correct samples produced a 3:1 ratio of incorrect to correct samples, which skewed the initial model results.\n",
    "- Gaussian noise was added to correct samples to generate more examples of the correct samples, which led to a very high model performance."
   ]
  }
 ],
 "metadata": {
  "kernelspec": {
   "display_name": "Python 3",
   "language": "python",
   "name": "python3"
  },
  "language_info": {
   "codemirror_mode": {
    "name": "ipython",
    "version": 3
   },
   "file_extension": ".py",
   "mimetype": "text/x-python",
   "name": "python",
   "nbconvert_exporter": "python",
   "pygments_lexer": "ipython3",
   "version": "3.8.5"
  }
 },
 "nbformat": 4,
 "nbformat_minor": 4
}
