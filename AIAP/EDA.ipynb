{
 "cells": [
  {
   "cell_type": "markdown",
   "id": "25f43ffa",
   "metadata": {},
   "source": [
    "# Exploratory Data Analysis"
   ]
  },
  {
   "cell_type": "code",
   "execution_count": 254,
   "id": "8c5a10d2",
   "metadata": {},
   "outputs": [],
   "source": [
    "import sqlite3\n",
    "from pathlib import Path\n",
    "import pandas as pd"
   ]
  },
  {
   "cell_type": "code",
   "execution_count": 255,
   "id": "f606ba56",
   "metadata": {},
   "outputs": [
    {
     "name": "stdout",
     "output_type": "stream",
     "text": [
      "<built-in method fetchall of sqlite3.Cursor object at 0x000001BB825A35E0>\n"
     ]
    }
   ],
   "source": [
    "folder = Path(\"data/score.db\")\n",
    "con = sqlite3.connect(folder) # connect to the database\n",
    "cur = con.cursor() \n",
    "\n",
    "# Shows table names\n",
    "cur.execute(\"SELECT * FROM sqlite_master where type='table'\")\n",
    "print(cur.fetchall)\n",
    "\n",
    "# read the database into a pandas dataframe\n",
    "df = pd.read_sql_query('Select * from score',con)\n",
    "\n",
    "# Close the connection to the database\n",
    "con.close()"
   ]
  },
  {
   "cell_type": "code",
   "execution_count": 257,
   "id": "a2eaf044",
   "metadata": {
    "scrolled": true
   },
   "outputs": [
    {
     "data": {
      "text/html": [
       "<div>\n",
       "<style scoped>\n",
       "    .dataframe tbody tr th:only-of-type {\n",
       "        vertical-align: middle;\n",
       "    }\n",
       "\n",
       "    .dataframe tbody tr th {\n",
       "        vertical-align: top;\n",
       "    }\n",
       "\n",
       "    .dataframe thead th {\n",
       "        text-align: right;\n",
       "    }\n",
       "</style>\n",
       "<table border=\"1\" class=\"dataframe\">\n",
       "  <thead>\n",
       "    <tr style=\"text-align: right;\">\n",
       "      <th></th>\n",
       "      <th>index</th>\n",
       "      <th>number_of_siblings</th>\n",
       "      <th>direct_admission</th>\n",
       "      <th>CCA</th>\n",
       "      <th>learning_style</th>\n",
       "      <th>student_id</th>\n",
       "      <th>gender</th>\n",
       "      <th>tuition</th>\n",
       "      <th>final_test</th>\n",
       "      <th>n_male</th>\n",
       "      <th>n_female</th>\n",
       "      <th>age</th>\n",
       "      <th>hours_per_week</th>\n",
       "      <th>attendance_rate</th>\n",
       "      <th>sleep_time</th>\n",
       "      <th>wake_time</th>\n",
       "      <th>mode_of_transport</th>\n",
       "      <th>bag_color</th>\n",
       "    </tr>\n",
       "  </thead>\n",
       "  <tbody>\n",
       "    <tr>\n",
       "      <th>0</th>\n",
       "      <td>0</td>\n",
       "      <td>0</td>\n",
       "      <td>Yes</td>\n",
       "      <td>Sports</td>\n",
       "      <td>Visual</td>\n",
       "      <td>ACN2BE</td>\n",
       "      <td>Female</td>\n",
       "      <td>No</td>\n",
       "      <td>69.0</td>\n",
       "      <td>14.0</td>\n",
       "      <td>2.0</td>\n",
       "      <td>16.0</td>\n",
       "      <td>10.0</td>\n",
       "      <td>91.0</td>\n",
       "      <td>22:00</td>\n",
       "      <td>6:00</td>\n",
       "      <td>private transport</td>\n",
       "      <td>yellow</td>\n",
       "    </tr>\n",
       "    <tr>\n",
       "      <th>1</th>\n",
       "      <td>1</td>\n",
       "      <td>2</td>\n",
       "      <td>No</td>\n",
       "      <td>Sports</td>\n",
       "      <td>Auditory</td>\n",
       "      <td>FGXIIZ</td>\n",
       "      <td>Female</td>\n",
       "      <td>No</td>\n",
       "      <td>47.0</td>\n",
       "      <td>4.0</td>\n",
       "      <td>19.0</td>\n",
       "      <td>16.0</td>\n",
       "      <td>7.0</td>\n",
       "      <td>94.0</td>\n",
       "      <td>22:30</td>\n",
       "      <td>6:30</td>\n",
       "      <td>private transport</td>\n",
       "      <td>green</td>\n",
       "    </tr>\n",
       "    <tr>\n",
       "      <th>2</th>\n",
       "      <td>2</td>\n",
       "      <td>0</td>\n",
       "      <td>Yes</td>\n",
       "      <td>None</td>\n",
       "      <td>Visual</td>\n",
       "      <td>B9AI9F</td>\n",
       "      <td>Male</td>\n",
       "      <td>No</td>\n",
       "      <td>85.0</td>\n",
       "      <td>14.0</td>\n",
       "      <td>2.0</td>\n",
       "      <td>15.0</td>\n",
       "      <td>8.0</td>\n",
       "      <td>92.0</td>\n",
       "      <td>22:30</td>\n",
       "      <td>6:30</td>\n",
       "      <td>private transport</td>\n",
       "      <td>white</td>\n",
       "    </tr>\n",
       "    <tr>\n",
       "      <th>3</th>\n",
       "      <td>3</td>\n",
       "      <td>1</td>\n",
       "      <td>No</td>\n",
       "      <td>Clubs</td>\n",
       "      <td>Auditory</td>\n",
       "      <td>FEVM1T</td>\n",
       "      <td>Female</td>\n",
       "      <td>Yes</td>\n",
       "      <td>64.0</td>\n",
       "      <td>2.0</td>\n",
       "      <td>20.0</td>\n",
       "      <td>15.0</td>\n",
       "      <td>18.0</td>\n",
       "      <td>NaN</td>\n",
       "      <td>21:00</td>\n",
       "      <td>5:00</td>\n",
       "      <td>public transport</td>\n",
       "      <td>yellow</td>\n",
       "    </tr>\n",
       "    <tr>\n",
       "      <th>4</th>\n",
       "      <td>4</td>\n",
       "      <td>0</td>\n",
       "      <td>No</td>\n",
       "      <td>Sports</td>\n",
       "      <td>Auditory</td>\n",
       "      <td>AXZN2E</td>\n",
       "      <td>Male</td>\n",
       "      <td>No</td>\n",
       "      <td>66.0</td>\n",
       "      <td>24.0</td>\n",
       "      <td>3.0</td>\n",
       "      <td>16.0</td>\n",
       "      <td>7.0</td>\n",
       "      <td>95.0</td>\n",
       "      <td>21:30</td>\n",
       "      <td>5:30</td>\n",
       "      <td>public transport</td>\n",
       "      <td>yellow</td>\n",
       "    </tr>\n",
       "  </tbody>\n",
       "</table>\n",
       "</div>"
      ],
      "text/plain": [
       "   index  number_of_siblings direct_admission     CCA learning_style  \\\n",
       "0      0                   0              Yes  Sports         Visual   \n",
       "1      1                   2               No  Sports       Auditory   \n",
       "2      2                   0              Yes    None         Visual   \n",
       "3      3                   1               No   Clubs       Auditory   \n",
       "4      4                   0               No  Sports       Auditory   \n",
       "\n",
       "  student_id  gender tuition  final_test  n_male  n_female   age  \\\n",
       "0     ACN2BE  Female      No        69.0    14.0       2.0  16.0   \n",
       "1     FGXIIZ  Female      No        47.0     4.0      19.0  16.0   \n",
       "2     B9AI9F    Male      No        85.0    14.0       2.0  15.0   \n",
       "3     FEVM1T  Female     Yes        64.0     2.0      20.0  15.0   \n",
       "4     AXZN2E    Male      No        66.0    24.0       3.0  16.0   \n",
       "\n",
       "   hours_per_week  attendance_rate sleep_time wake_time  mode_of_transport  \\\n",
       "0            10.0             91.0      22:00      6:00  private transport   \n",
       "1             7.0             94.0      22:30      6:30  private transport   \n",
       "2             8.0             92.0      22:30      6:30  private transport   \n",
       "3            18.0              NaN      21:00      5:00   public transport   \n",
       "4             7.0             95.0      21:30      5:30   public transport   \n",
       "\n",
       "  bag_color  \n",
       "0    yellow  \n",
       "1     green  \n",
       "2     white  \n",
       "3    yellow  \n",
       "4    yellow  "
      ]
     },
     "execution_count": 257,
     "metadata": {},
     "output_type": "execute_result"
    }
   ],
   "source": [
    "df.head()"
   ]
  },
  {
   "cell_type": "code",
   "execution_count": 258,
   "id": "7bc2647c",
   "metadata": {},
   "outputs": [],
   "source": [
    "from datetime import timedelta\n",
    "import numpy as np\n",
    "import pandas as pd\n",
    "import matplotlib.pyplot as plt\n",
    "import seaborn as sns\n",
    "import math"
   ]
  },
  {
   "cell_type": "code",
   "execution_count": 259,
   "id": "5950e31d",
   "metadata": {},
   "outputs": [],
   "source": [
    "# Calculating hours of sleep, using inbuilt datetime functions\n",
    "df['sleep'] = (pd.to_datetime(df['wake_time']) - pd.to_datetime(df['sleep_time']) +timedelta(hours=24))% timedelta(hours=24)\n",
    "df['sleep'] = df['sleep'].dt.components['hours']"
   ]
  },
  {
   "cell_type": "code",
   "execution_count": 260,
   "id": "a641da30",
   "metadata": {},
   "outputs": [
    {
     "name": "stdout",
     "output_type": "stream",
     "text": [
      "<class 'pandas.core.frame.DataFrame'>\n",
      "RangeIndex: 15900 entries, 0 to 15899\n",
      "Data columns (total 19 columns):\n",
      " #   Column              Non-Null Count  Dtype  \n",
      "---  ------              --------------  -----  \n",
      " 0   index               15900 non-null  int64  \n",
      " 1   number_of_siblings  15900 non-null  int64  \n",
      " 2   direct_admission    15900 non-null  object \n",
      " 3   CCA                 15900 non-null  object \n",
      " 4   learning_style      15900 non-null  object \n",
      " 5   student_id          15900 non-null  object \n",
      " 6   gender              15900 non-null  object \n",
      " 7   tuition             15900 non-null  object \n",
      " 8   final_test          15405 non-null  float64\n",
      " 9   n_male              15900 non-null  float64\n",
      " 10  n_female            15900 non-null  float64\n",
      " 11  age                 15900 non-null  float64\n",
      " 12  hours_per_week      15900 non-null  float64\n",
      " 13  attendance_rate     15122 non-null  float64\n",
      " 14  sleep_time          15900 non-null  object \n",
      " 15  wake_time           15900 non-null  object \n",
      " 16  mode_of_transport   15900 non-null  object \n",
      " 17  bag_color           15900 non-null  object \n",
      " 18  sleep               15900 non-null  int64  \n",
      "dtypes: float64(6), int64(3), object(10)\n",
      "memory usage: 2.3+ MB\n"
     ]
    }
   ],
   "source": [
    "df.info()"
   ]
  },
  {
   "cell_type": "code",
   "execution_count": 261,
   "id": "93d8ef72",
   "metadata": {},
   "outputs": [
    {
     "data": {
      "text/html": [
       "<div>\n",
       "<style scoped>\n",
       "    .dataframe tbody tr th:only-of-type {\n",
       "        vertical-align: middle;\n",
       "    }\n",
       "\n",
       "    .dataframe tbody tr th {\n",
       "        vertical-align: top;\n",
       "    }\n",
       "\n",
       "    .dataframe thead th {\n",
       "        text-align: right;\n",
       "    }\n",
       "</style>\n",
       "<table border=\"1\" class=\"dataframe\">\n",
       "  <thead>\n",
       "    <tr style=\"text-align: right;\">\n",
       "      <th></th>\n",
       "      <th>index</th>\n",
       "      <th>number_of_siblings</th>\n",
       "      <th>final_test</th>\n",
       "      <th>n_male</th>\n",
       "      <th>n_female</th>\n",
       "      <th>age</th>\n",
       "      <th>hours_per_week</th>\n",
       "      <th>attendance_rate</th>\n",
       "      <th>sleep</th>\n",
       "    </tr>\n",
       "  </thead>\n",
       "  <tbody>\n",
       "    <tr>\n",
       "      <th>count</th>\n",
       "      <td>15900.000000</td>\n",
       "      <td>15900.000000</td>\n",
       "      <td>15405.000000</td>\n",
       "      <td>15900.000000</td>\n",
       "      <td>15900.000000</td>\n",
       "      <td>15900.000000</td>\n",
       "      <td>15900.000000</td>\n",
       "      <td>15122.000000</td>\n",
       "      <td>15900.000000</td>\n",
       "    </tr>\n",
       "    <tr>\n",
       "      <th>mean</th>\n",
       "      <td>7949.500000</td>\n",
       "      <td>0.886541</td>\n",
       "      <td>67.165401</td>\n",
       "      <td>13.880000</td>\n",
       "      <td>8.906038</td>\n",
       "      <td>15.213459</td>\n",
       "      <td>10.312579</td>\n",
       "      <td>93.270268</td>\n",
       "      <td>7.846478</td>\n",
       "    </tr>\n",
       "    <tr>\n",
       "      <th>std</th>\n",
       "      <td>4590.078975</td>\n",
       "      <td>0.751346</td>\n",
       "      <td>13.977879</td>\n",
       "      <td>6.552584</td>\n",
       "      <td>6.663852</td>\n",
       "      <td>1.758941</td>\n",
       "      <td>4.461861</td>\n",
       "      <td>7.984230</td>\n",
       "      <td>0.602334</td>\n",
       "    </tr>\n",
       "    <tr>\n",
       "      <th>min</th>\n",
       "      <td>0.000000</td>\n",
       "      <td>0.000000</td>\n",
       "      <td>32.000000</td>\n",
       "      <td>0.000000</td>\n",
       "      <td>0.000000</td>\n",
       "      <td>-5.000000</td>\n",
       "      <td>0.000000</td>\n",
       "      <td>40.000000</td>\n",
       "      <td>4.000000</td>\n",
       "    </tr>\n",
       "    <tr>\n",
       "      <th>25%</th>\n",
       "      <td>3974.750000</td>\n",
       "      <td>0.000000</td>\n",
       "      <td>56.000000</td>\n",
       "      <td>10.000000</td>\n",
       "      <td>4.000000</td>\n",
       "      <td>15.000000</td>\n",
       "      <td>7.000000</td>\n",
       "      <td>92.000000</td>\n",
       "      <td>8.000000</td>\n",
       "    </tr>\n",
       "    <tr>\n",
       "      <th>50%</th>\n",
       "      <td>7949.500000</td>\n",
       "      <td>1.000000</td>\n",
       "      <td>68.000000</td>\n",
       "      <td>14.000000</td>\n",
       "      <td>8.000000</td>\n",
       "      <td>15.000000</td>\n",
       "      <td>9.000000</td>\n",
       "      <td>95.000000</td>\n",
       "      <td>8.000000</td>\n",
       "    </tr>\n",
       "    <tr>\n",
       "      <th>75%</th>\n",
       "      <td>11924.250000</td>\n",
       "      <td>1.000000</td>\n",
       "      <td>78.000000</td>\n",
       "      <td>18.000000</td>\n",
       "      <td>13.000000</td>\n",
       "      <td>16.000000</td>\n",
       "      <td>14.000000</td>\n",
       "      <td>97.000000</td>\n",
       "      <td>8.000000</td>\n",
       "    </tr>\n",
       "    <tr>\n",
       "      <th>max</th>\n",
       "      <td>15899.000000</td>\n",
       "      <td>2.000000</td>\n",
       "      <td>100.000000</td>\n",
       "      <td>31.000000</td>\n",
       "      <td>31.000000</td>\n",
       "      <td>16.000000</td>\n",
       "      <td>20.000000</td>\n",
       "      <td>100.000000</td>\n",
       "      <td>8.000000</td>\n",
       "    </tr>\n",
       "  </tbody>\n",
       "</table>\n",
       "</div>"
      ],
      "text/plain": [
       "              index  number_of_siblings    final_test        n_male  \\\n",
       "count  15900.000000        15900.000000  15405.000000  15900.000000   \n",
       "mean    7949.500000            0.886541     67.165401     13.880000   \n",
       "std     4590.078975            0.751346     13.977879      6.552584   \n",
       "min        0.000000            0.000000     32.000000      0.000000   \n",
       "25%     3974.750000            0.000000     56.000000     10.000000   \n",
       "50%     7949.500000            1.000000     68.000000     14.000000   \n",
       "75%    11924.250000            1.000000     78.000000     18.000000   \n",
       "max    15899.000000            2.000000    100.000000     31.000000   \n",
       "\n",
       "           n_female           age  hours_per_week  attendance_rate  \\\n",
       "count  15900.000000  15900.000000    15900.000000     15122.000000   \n",
       "mean       8.906038     15.213459       10.312579        93.270268   \n",
       "std        6.663852      1.758941        4.461861         7.984230   \n",
       "min        0.000000     -5.000000        0.000000        40.000000   \n",
       "25%        4.000000     15.000000        7.000000        92.000000   \n",
       "50%        8.000000     15.000000        9.000000        95.000000   \n",
       "75%       13.000000     16.000000       14.000000        97.000000   \n",
       "max       31.000000     16.000000       20.000000       100.000000   \n",
       "\n",
       "              sleep  \n",
       "count  15900.000000  \n",
       "mean       7.846478  \n",
       "std        0.602334  \n",
       "min        4.000000  \n",
       "25%        8.000000  \n",
       "50%        8.000000  \n",
       "75%        8.000000  \n",
       "max        8.000000  "
      ]
     },
     "execution_count": 261,
     "metadata": {},
     "output_type": "execute_result"
    }
   ],
   "source": [
    "df.describe()"
   ]
  },
  {
   "cell_type": "markdown",
   "id": "bf2e8d1f",
   "metadata": {},
   "source": [
    "## Initial Observations from numerical data\n",
    "\n",
    "1) Number of Siblings looks to be normally distributed, with the mean close to 1 sibling. This could be indicative of Singaporean family sizes\n",
    "\n",
    "2) Final test, our target variable of interest, only ranges from 32 to 100, which gives us a tight range of predictions. Also, there are some blanks in this column for some reason.\n",
    "\n",
    "3) Number of male classmates is higher than number of female classmates at all percentiles, which could indicate more male-only schools than females, or that there are simply more males in this dataset.\n",
    "\n",
    "4) Age ranges between 15 to 16, which is expected for O-level students, and there is a -5 age, which is definitely a mistake which needs to be dealt with.\n",
    "\n",
    "5) Hours per week seems quite high, which has a mean of 10 hours. Perhaps this number is inflated if the students were questioned and surveyed on their studying habits?\n",
    "\n",
    "6) Attendance rate is very high, with a mean of 93. there seems to be a student with 40% attendance, which might be an outlier which requires cleaning up.\n",
    "\n",
    "7) Total hours of sleep seems to be quite regular at 8, with a minimum of 4, which is another possible outlier."
   ]
  },
  {
   "cell_type": "code",
   "execution_count": 263,
   "id": "eebb0328",
   "metadata": {},
   "outputs": [],
   "source": [
    "numerical = df.describe().columns\n",
    "numerical = numerical.drop('index')\n",
    "num_cols = df[numerical]"
   ]
  },
  {
   "cell_type": "code",
   "execution_count": 264,
   "id": "c1341ddb",
   "metadata": {},
   "outputs": [
    {
     "data": {
      "image/png": "[encoded data removed]",
      "text/plain": [
       "<Figure size 1440x720 with 8 Axes>"
      ]
     },
     "metadata": {
      "needs_background": "light"
     },
     "output_type": "display_data"
    }
   ],
   "source": [
    "num = 1\n",
    "fig, axis = plt.subplots(2,4)\n",
    "for feature in num_cols.columns:\n",
    "    if num>4 and num <=8:\n",
    "        row = 1\n",
    "    else:\n",
    "        row = 0\n",
    "    col = num%4 -1\n",
    "    \n",
    "    if feature in ['number_of_siblings', 'n_male','n_female','age','hours_per_week']:\n",
    "        sns.histplot(data = num_cols,x=feature, ax = axis[row,col], kde=True, discrete=True)\n",
    "    else:\n",
    "        sns.histplot(data = num_cols,x=feature, ax = axis[row,col], kde=True)\n",
    "    axis[row,col].set_title('Histogram of ' + feature)\n",
    "    num +=1\n",
    "fig.set_size_inches(20,10)"
   ]
  },
  {
   "cell_type": "markdown",
   "id": "b235d7e5",
   "metadata": {},
   "source": [
    "## Data Cleaning"
   ]
  },
  {
   "cell_type": "code",
   "execution_count": 265,
   "id": "90cae3aa",
   "metadata": {
    "scrolled": true
   },
   "outputs": [
    {
     "data": {
      "text/plain": [
       "(15405, 19)"
      ]
     },
     "execution_count": 265,
     "metadata": {},
     "output_type": "execute_result"
    }
   ],
   "source": [
    "df[df['final_test'].isna()]\n",
    "# 495 students do not have a final score. This is 2% of the sample, which is relatively small\n",
    "\n",
    "df = df[df['final_test'].notnull()] \n",
    "# Filter out the students who do not have a final score\n",
    "\n",
    "df.shape"
   ]
  },
  {
   "cell_type": "code",
   "execution_count": 266,
   "id": "5fae6bae",
   "metadata": {},
   "outputs": [
    {
     "data": {
      "text/plain": [
       " 16.0    7486\n",
       " 15.0    7483\n",
       " 6.0      225\n",
       " 5.0      206\n",
       "-5.0        4\n",
       "-4.0        1\n",
       "Name: age, dtype: int64"
      ]
     },
     "execution_count": 266,
     "metadata": {},
     "output_type": "execute_result"
    }
   ],
   "source": [
    "df[df['age']<15] # There are 436 students who are below 15, and their ages range between -5 and 6.\n",
    "\n",
    "'''From SEAB, the authority in charge of Examinations in Singapore,\n",
    "there is an age restriction of 15 years for private candidates. Seeing that the students below 15 and 16 are mostly\n",
    "5 and 6 years old, I will assume that there is a typo and change all these ages to 15.'''\n",
    "\n",
    "df['age'].value_counts()"
   ]
  },
  {
   "cell_type": "code",
   "execution_count": 267,
   "id": "23843cdb",
   "metadata": {},
   "outputs": [
    {
     "data": {
      "text/plain": [
       "15.0    7919\n",
       "16.0    7486\n",
       "Name: age, dtype: int64"
      ]
     },
     "execution_count": 267,
     "metadata": {},
     "output_type": "execute_result"
    }
   ],
   "source": [
    "df.loc[df['age'] < 15, 'age'] = 15\n",
    "df['age'].value_counts()"
   ]
  },
  {
   "cell_type": "code",
   "execution_count": 271,
   "id": "4e6ae1b3",
   "metadata": {},
   "outputs": [
    {
     "data": {
      "text/plain": [
       "<AxesSubplot:xlabel='classmates', ylabel='Count'>"
      ]
     },
     "execution_count": 271,
     "metadata": {},
     "output_type": "execute_result"
    },
    {
     "data": {
      "image/png": "[encoded data removed]",
      "text/plain": [
       "<Figure size 432x288 with 1 Axes>"
      ]
     },
     "metadata": {
      "needs_background": "light"
     },
     "output_type": "display_data"
    }
   ],
   "source": [
    "'''From the histograms of male and female classmates, it is clear that female classmates is not normally distributed.\n",
    "Some feature engineering can be made, by summing male and female, the class size can be found. Also, male and female \n",
    "only classrooms can be determined '''\n",
    "\n",
    "df['classmates'] = df['n_male'] + df['n_female']\n",
    "sns.histplot(data= df, x='classmates', discrete =True, kde=True) \n",
    "# class size seems to be relatively normally distributed, and this will be the feature of choice."
   ]
  },
  {
   "cell_type": "code",
   "execution_count": 272,
   "id": "ea3c53e1",
   "metadata": {},
   "outputs": [],
   "source": [
    "def schtype(row):\n",
    "    if row['n_male'] == 0 and row['n_female'] == 0:\n",
    "        return 'S' # Single student\n",
    "    elif row['n_male'] == 0:\n",
    "        return 'F' # Female Only\n",
    "    elif row['n_female'] == 0:\n",
    "        return 'M' # Male Only\n",
    "    else:\n",
    "        return 'N' # Normal, mixed school"
   ]
  },
  {
   "cell_type": "code",
   "execution_count": 273,
   "id": "8f04670f",
   "metadata": {},
   "outputs": [
    {
     "data": {
      "text/plain": [
       "N    14090\n",
       "M      968\n",
       "F      347\n",
       "Name: schtype, dtype: int64"
      ]
     },
     "execution_count": 273,
     "metadata": {},
     "output_type": "execute_result"
    }
   ],
   "source": [
    "df['schtype'] = df.apply(schtype,axis =1)\n",
    "df['schtype'].value_counts()"
   ]
  },
  {
   "cell_type": "code",
   "execution_count": 274,
   "id": "2dbf1b8f",
   "metadata": {},
   "outputs": [
    {
     "data": {
      "text/html": [
       "<div>\n",
       "<style scoped>\n",
       "    .dataframe tbody tr th:only-of-type {\n",
       "        vertical-align: middle;\n",
       "    }\n",
       "\n",
       "    .dataframe tbody tr th {\n",
       "        vertical-align: top;\n",
       "    }\n",
       "\n",
       "    .dataframe thead th {\n",
       "        text-align: right;\n",
       "    }\n",
       "</style>\n",
       "<table border=\"1\" class=\"dataframe\">\n",
       "  <thead>\n",
       "    <tr style=\"text-align: right;\">\n",
       "      <th></th>\n",
       "      <th>index</th>\n",
       "      <th>number_of_siblings</th>\n",
       "      <th>direct_admission</th>\n",
       "      <th>CCA</th>\n",
       "      <th>learning_style</th>\n",
       "      <th>student_id</th>\n",
       "      <th>gender</th>\n",
       "      <th>tuition</th>\n",
       "      <th>final_test</th>\n",
       "      <th>n_male</th>\n",
       "      <th>...</th>\n",
       "      <th>age</th>\n",
       "      <th>hours_per_week</th>\n",
       "      <th>attendance_rate</th>\n",
       "      <th>sleep_time</th>\n",
       "      <th>wake_time</th>\n",
       "      <th>mode_of_transport</th>\n",
       "      <th>bag_color</th>\n",
       "      <th>sleep</th>\n",
       "      <th>classmates</th>\n",
       "      <th>schtype</th>\n",
       "    </tr>\n",
       "  </thead>\n",
       "  <tbody>\n",
       "    <tr>\n",
       "      <th>3</th>\n",
       "      <td>3</td>\n",
       "      <td>1</td>\n",
       "      <td>No</td>\n",
       "      <td>Clubs</td>\n",
       "      <td>Auditory</td>\n",
       "      <td>FEVM1T</td>\n",
       "      <td>Female</td>\n",
       "      <td>Yes</td>\n",
       "      <td>64.0</td>\n",
       "      <td>2.0</td>\n",
       "      <td>...</td>\n",
       "      <td>15.0</td>\n",
       "      <td>18.0</td>\n",
       "      <td>NaN</td>\n",
       "      <td>21:00</td>\n",
       "      <td>5:00</td>\n",
       "      <td>public transport</td>\n",
       "      <td>yellow</td>\n",
       "      <td>8</td>\n",
       "      <td>22.0</td>\n",
       "      <td>N</td>\n",
       "    </tr>\n",
       "    <tr>\n",
       "      <th>9</th>\n",
       "      <td>9</td>\n",
       "      <td>2</td>\n",
       "      <td>No</td>\n",
       "      <td>Arts</td>\n",
       "      <td>Auditory</td>\n",
       "      <td>3MOMA6</td>\n",
       "      <td>Male</td>\n",
       "      <td>Yes</td>\n",
       "      <td>60.0</td>\n",
       "      <td>13.0</td>\n",
       "      <td>...</td>\n",
       "      <td>16.0</td>\n",
       "      <td>16.0</td>\n",
       "      <td>NaN</td>\n",
       "      <td>22:30</td>\n",
       "      <td>6:30</td>\n",
       "      <td>private transport</td>\n",
       "      <td>green</td>\n",
       "      <td>8</td>\n",
       "      <td>22.0</td>\n",
       "      <td>N</td>\n",
       "    </tr>\n",
       "    <tr>\n",
       "      <th>58</th>\n",
       "      <td>58</td>\n",
       "      <td>1</td>\n",
       "      <td>No</td>\n",
       "      <td>Clubs</td>\n",
       "      <td>Visual</td>\n",
       "      <td>GF3FCX</td>\n",
       "      <td>Male</td>\n",
       "      <td>No</td>\n",
       "      <td>51.0</td>\n",
       "      <td>19.0</td>\n",
       "      <td>...</td>\n",
       "      <td>15.0</td>\n",
       "      <td>18.0</td>\n",
       "      <td>NaN</td>\n",
       "      <td>22:30</td>\n",
       "      <td>6:30</td>\n",
       "      <td>private transport</td>\n",
       "      <td>black</td>\n",
       "      <td>8</td>\n",
       "      <td>30.0</td>\n",
       "      <td>N</td>\n",
       "    </tr>\n",
       "    <tr>\n",
       "      <th>62</th>\n",
       "      <td>62</td>\n",
       "      <td>0</td>\n",
       "      <td>Yes</td>\n",
       "      <td>None</td>\n",
       "      <td>Auditory</td>\n",
       "      <td>68GQ7S</td>\n",
       "      <td>Male</td>\n",
       "      <td>Yes</td>\n",
       "      <td>85.0</td>\n",
       "      <td>12.0</td>\n",
       "      <td>...</td>\n",
       "      <td>16.0</td>\n",
       "      <td>8.0</td>\n",
       "      <td>NaN</td>\n",
       "      <td>23:00</td>\n",
       "      <td>7:00</td>\n",
       "      <td>walk</td>\n",
       "      <td>red</td>\n",
       "      <td>8</td>\n",
       "      <td>21.0</td>\n",
       "      <td>N</td>\n",
       "    </tr>\n",
       "    <tr>\n",
       "      <th>85</th>\n",
       "      <td>85</td>\n",
       "      <td>0</td>\n",
       "      <td>No</td>\n",
       "      <td>Arts</td>\n",
       "      <td>Auditory</td>\n",
       "      <td>B6U6DY</td>\n",
       "      <td>Female</td>\n",
       "      <td>Yes</td>\n",
       "      <td>94.0</td>\n",
       "      <td>18.0</td>\n",
       "      <td>...</td>\n",
       "      <td>16.0</td>\n",
       "      <td>8.0</td>\n",
       "      <td>NaN</td>\n",
       "      <td>23:00</td>\n",
       "      <td>7:00</td>\n",
       "      <td>walk</td>\n",
       "      <td>yellow</td>\n",
       "      <td>8</td>\n",
       "      <td>21.0</td>\n",
       "      <td>N</td>\n",
       "    </tr>\n",
       "    <tr>\n",
       "      <th>...</th>\n",
       "      <td>...</td>\n",
       "      <td>...</td>\n",
       "      <td>...</td>\n",
       "      <td>...</td>\n",
       "      <td>...</td>\n",
       "      <td>...</td>\n",
       "      <td>...</td>\n",
       "      <td>...</td>\n",
       "      <td>...</td>\n",
       "      <td>...</td>\n",
       "      <td>...</td>\n",
       "      <td>...</td>\n",
       "      <td>...</td>\n",
       "      <td>...</td>\n",
       "      <td>...</td>\n",
       "      <td>...</td>\n",
       "      <td>...</td>\n",
       "      <td>...</td>\n",
       "      <td>...</td>\n",
       "      <td>...</td>\n",
       "      <td>...</td>\n",
       "    </tr>\n",
       "    <tr>\n",
       "      <th>15790</th>\n",
       "      <td>15790</td>\n",
       "      <td>0</td>\n",
       "      <td>No</td>\n",
       "      <td>Clubs</td>\n",
       "      <td>Auditory</td>\n",
       "      <td>GJR1LN</td>\n",
       "      <td>Male</td>\n",
       "      <td>No</td>\n",
       "      <td>61.0</td>\n",
       "      <td>21.0</td>\n",
       "      <td>...</td>\n",
       "      <td>15.0</td>\n",
       "      <td>20.0</td>\n",
       "      <td>NaN</td>\n",
       "      <td>22:00</td>\n",
       "      <td>6:00</td>\n",
       "      <td>private transport</td>\n",
       "      <td>green</td>\n",
       "      <td>8</td>\n",
       "      <td>22.0</td>\n",
       "      <td>N</td>\n",
       "    </tr>\n",
       "    <tr>\n",
       "      <th>15827</th>\n",
       "      <td>15827</td>\n",
       "      <td>0</td>\n",
       "      <td>Yes</td>\n",
       "      <td>Arts</td>\n",
       "      <td>Visual</td>\n",
       "      <td>F90UM0</td>\n",
       "      <td>Female</td>\n",
       "      <td>No</td>\n",
       "      <td>84.0</td>\n",
       "      <td>19.0</td>\n",
       "      <td>...</td>\n",
       "      <td>16.0</td>\n",
       "      <td>10.0</td>\n",
       "      <td>NaN</td>\n",
       "      <td>23:00</td>\n",
       "      <td>7:00</td>\n",
       "      <td>walk</td>\n",
       "      <td>green</td>\n",
       "      <td>8</td>\n",
       "      <td>20.0</td>\n",
       "      <td>N</td>\n",
       "    </tr>\n",
       "    <tr>\n",
       "      <th>15832</th>\n",
       "      <td>15832</td>\n",
       "      <td>2</td>\n",
       "      <td>No</td>\n",
       "      <td>Arts</td>\n",
       "      <td>Auditory</td>\n",
       "      <td>D5GK79</td>\n",
       "      <td>Male</td>\n",
       "      <td>Yes</td>\n",
       "      <td>74.0</td>\n",
       "      <td>14.0</td>\n",
       "      <td>...</td>\n",
       "      <td>15.0</td>\n",
       "      <td>9.0</td>\n",
       "      <td>NaN</td>\n",
       "      <td>21:00</td>\n",
       "      <td>5:00</td>\n",
       "      <td>public transport</td>\n",
       "      <td>black</td>\n",
       "      <td>8</td>\n",
       "      <td>23.0</td>\n",
       "      <td>N</td>\n",
       "    </tr>\n",
       "    <tr>\n",
       "      <th>15854</th>\n",
       "      <td>15854</td>\n",
       "      <td>0</td>\n",
       "      <td>No</td>\n",
       "      <td>Clubs</td>\n",
       "      <td>Auditory</td>\n",
       "      <td>05OOPM</td>\n",
       "      <td>Male</td>\n",
       "      <td>Yes</td>\n",
       "      <td>60.0</td>\n",
       "      <td>19.0</td>\n",
       "      <td>...</td>\n",
       "      <td>15.0</td>\n",
       "      <td>10.0</td>\n",
       "      <td>NaN</td>\n",
       "      <td>21:00</td>\n",
       "      <td>5:00</td>\n",
       "      <td>public transport</td>\n",
       "      <td>red</td>\n",
       "      <td>8</td>\n",
       "      <td>21.0</td>\n",
       "      <td>N</td>\n",
       "    </tr>\n",
       "    <tr>\n",
       "      <th>15888</th>\n",
       "      <td>15888</td>\n",
       "      <td>0</td>\n",
       "      <td>Yes</td>\n",
       "      <td>Clubs</td>\n",
       "      <td>Auditory</td>\n",
       "      <td>SD8VXP</td>\n",
       "      <td>Female</td>\n",
       "      <td>Yes</td>\n",
       "      <td>73.0</td>\n",
       "      <td>11.0</td>\n",
       "      <td>...</td>\n",
       "      <td>16.0</td>\n",
       "      <td>12.0</td>\n",
       "      <td>NaN</td>\n",
       "      <td>22:30</td>\n",
       "      <td>6:30</td>\n",
       "      <td>private transport</td>\n",
       "      <td>black</td>\n",
       "      <td>8</td>\n",
       "      <td>20.0</td>\n",
       "      <td>N</td>\n",
       "    </tr>\n",
       "  </tbody>\n",
       "</table>\n",
       "<p>757 rows × 21 columns</p>\n",
       "</div>"
      ],
      "text/plain": [
       "       index  number_of_siblings direct_admission    CCA learning_style  \\\n",
       "3          3                   1               No  Clubs       Auditory   \n",
       "9          9                   2               No   Arts       Auditory   \n",
       "58        58                   1               No  Clubs         Visual   \n",
       "62        62                   0              Yes   None       Auditory   \n",
       "85        85                   0               No   Arts       Auditory   \n",
       "...      ...                 ...              ...    ...            ...   \n",
       "15790  15790                   0               No  Clubs       Auditory   \n",
       "15827  15827                   0              Yes   Arts         Visual   \n",
       "15832  15832                   2               No   Arts       Auditory   \n",
       "15854  15854                   0               No  Clubs       Auditory   \n",
       "15888  15888                   0              Yes  Clubs       Auditory   \n",
       "\n",
       "      student_id  gender tuition  final_test  n_male  ...   age  \\\n",
       "3         FEVM1T  Female     Yes        64.0     2.0  ...  15.0   \n",
       "9         3MOMA6    Male     Yes        60.0    13.0  ...  16.0   \n",
       "58        GF3FCX    Male      No        51.0    19.0  ...  15.0   \n",
       "62        68GQ7S    Male     Yes        85.0    12.0  ...  16.0   \n",
       "85        B6U6DY  Female     Yes        94.0    18.0  ...  16.0   \n",
       "...          ...     ...     ...         ...     ...  ...   ...   \n",
       "15790     GJR1LN    Male      No        61.0    21.0  ...  15.0   \n",
       "15827     F90UM0  Female      No        84.0    19.0  ...  16.0   \n",
       "15832     D5GK79    Male     Yes        74.0    14.0  ...  15.0   \n",
       "15854     05OOPM    Male     Yes        60.0    19.0  ...  15.0   \n",
       "15888     SD8VXP  Female     Yes        73.0    11.0  ...  16.0   \n",
       "\n",
       "       hours_per_week  attendance_rate  sleep_time wake_time  \\\n",
       "3                18.0              NaN       21:00      5:00   \n",
       "9                16.0              NaN       22:30      6:30   \n",
       "58               18.0              NaN       22:30      6:30   \n",
       "62                8.0              NaN       23:00      7:00   \n",
       "85                8.0              NaN       23:00      7:00   \n",
       "...               ...              ...         ...       ...   \n",
       "15790            20.0              NaN       22:00      6:00   \n",
       "15827            10.0              NaN       23:00      7:00   \n",
       "15832             9.0              NaN       21:00      5:00   \n",
       "15854            10.0              NaN       21:00      5:00   \n",
       "15888            12.0              NaN       22:30      6:30   \n",
       "\n",
       "       mode_of_transport bag_color sleep  classmates  schtype  \n",
       "3       public transport    yellow     8        22.0        N  \n",
       "9      private transport     green     8        22.0        N  \n",
       "58     private transport     black     8        30.0        N  \n",
       "62                  walk       red     8        21.0        N  \n",
       "85                  walk    yellow     8        21.0        N  \n",
       "...                  ...       ...   ...         ...      ...  \n",
       "15790  private transport     green     8        22.0        N  \n",
       "15827               walk     green     8        20.0        N  \n",
       "15832   public transport     black     8        23.0        N  \n",
       "15854   public transport       red     8        21.0        N  \n",
       "15888  private transport     black     8        20.0        N  \n",
       "\n",
       "[757 rows x 21 columns]"
      ]
     },
     "execution_count": 274,
     "metadata": {},
     "output_type": "execute_result"
    }
   ],
   "source": [
    "df[df['attendance_rate'].isna()] \n",
    "# there are 757 students without attendance rate, these values will be imputed later"
   ]
  },
  {
   "cell_type": "code",
   "execution_count": 275,
   "id": "b864e912",
   "metadata": {},
   "outputs": [
    {
     "name": "stdout",
     "output_type": "stream",
     "text": [
      "['index', 'number_of_siblings', 'final_test', 'n_male', 'n_female', 'age', 'hours_per_week', 'attendance_rate', 'sleep', 'classmates']\n"
     ]
    },
    {
     "data": {
      "text/plain": [
       "<AxesSubplot:>"
      ]
     },
     "execution_count": 275,
     "metadata": {},
     "output_type": "execute_result"
    },
    {
     "data": {
      "image/png": "[encoded data removed]",
      "text/plain": [
       "<Figure size 864x576 with 2 Axes>"
      ]
     },
     "metadata": {
      "needs_background": "light"
     },
     "output_type": "display_data"
    }
   ],
   "source": [
    "fig, ax = plt.subplots(figsize=(12, 8))\n",
    "num_cols = list(df.describe().columns)\n",
    "print(num_cols)\n",
    "num_cols = ['number_of_siblings','hours_per_week','attendance_rate','sleep','classmates','age','final_test']\n",
    "corr = df[num_cols].corr()\n",
    "\n",
    "\n",
    "sns.heatmap(corr,\n",
    "            xticklabels=corr.columns.values,\n",
    "            yticklabels=corr.columns.values, annot=True)"
   ]
  },
  {
   "cell_type": "markdown",
   "id": "33353541",
   "metadata": {},
   "source": [
    "- Numerical Features and the Correlation with the final_test scores are shown\n",
    "- Number of Classmates, an engineered feature, seems to have the highest absolute correlation(0.5) with the scores\n",
    "- Surprisingly, the hours studied per week seemed to have a negative correlation with test scores, suggesting that spending to much time on math might not be beneficial"
   ]
  },
  {
   "cell_type": "markdown",
   "id": "9f4e1707",
   "metadata": {},
   "source": [
    "## Categorical Feature Analysis"
   ]
  },
  {
   "cell_type": "code",
   "execution_count": 276,
   "id": "e6c94d44",
   "metadata": {},
   "outputs": [
    {
     "name": "stdout",
     "output_type": "stream",
     "text": [
      "Index(['index', 'number_of_siblings', 'direct_admission', 'CCA',\n",
      "       'learning_style', 'student_id', 'gender', 'tuition', 'final_test',\n",
      "       'n_male', 'n_female', 'age', 'hours_per_week', 'attendance_rate',\n",
      "       'sleep_time', 'wake_time', 'mode_of_transport', 'bag_color', 'sleep',\n",
      "       'classmates', 'schtype'],\n",
      "      dtype='object')\n"
     ]
    }
   ],
   "source": [
    "print(df.columns)\n",
    "cat_cols = ['direct_admission','CCA','learning_style','gender','tuition','mode_of_transport','bag_color','schtype']"
   ]
  },
  {
   "cell_type": "code",
   "execution_count": 277,
   "id": "1dd4eb22",
   "metadata": {},
   "outputs": [],
   "source": [
    "def catanalysis(df,cat_cols):\n",
    "    for feature in cat_cols:\n",
    "        print('\\n -------- Pivot Table for ' + feature + ' --------')\n",
    "        print(df[['final_test',feature]].groupby(feature).mean()) # Considering the average score only"
   ]
  },
  {
   "cell_type": "code",
   "execution_count": 278,
   "id": "c111cf12",
   "metadata": {},
   "outputs": [
    {
     "name": "stdout",
     "output_type": "stream",
     "text": [
      "\n",
      " -------- Pivot Table for direct_admission --------\n",
      "                  final_test\n",
      "direct_admission            \n",
      "No                 64.989500\n",
      "Yes                72.359719\n",
      "\n",
      " -------- Pivot Table for CCA --------\n",
      "        final_test\n",
      "CCA               \n",
      "ARTS     64.121951\n",
      "Arts     64.059978\n",
      "CLUBS    61.189781\n",
      "Clubs    63.946621\n",
      "NONE     76.669355\n",
      "None     76.782304\n",
      "SPORTS   63.504854\n",
      "Sports   64.056684\n",
      "\n",
      " -------- Pivot Table for learning_style --------\n",
      "                final_test\n",
      "learning_style            \n",
      "Auditory         63.888324\n",
      "Visual           71.586307\n",
      "\n",
      " -------- Pivot Table for gender --------\n",
      "        final_test\n",
      "gender            \n",
      "Female   66.999869\n",
      "Male     67.329158\n",
      "\n",
      " -------- Pivot Table for tuition --------\n",
      "         final_test\n",
      "tuition            \n",
      "N         61.706349\n",
      "No        62.909741\n",
      "Y         72.009585\n",
      "Yes       70.408664\n",
      "\n",
      " -------- Pivot Table for mode_of_transport --------\n",
      "                   final_test\n",
      "mode_of_transport            \n",
      "private transport   67.253010\n",
      "public transport    67.099108\n",
      "walk                67.123465\n",
      "\n",
      " -------- Pivot Table for bag_color --------\n",
      "           final_test\n",
      "bag_color            \n",
      "black       67.358755\n",
      "blue        67.114510\n",
      "green       66.563209\n",
      "red         67.434475\n",
      "white       67.144607\n",
      "yellow      67.368698\n",
      "\n",
      " -------- Pivot Table for schtype --------\n",
      "         final_test\n",
      "schtype            \n",
      "F         67.930836\n",
      "M         69.533058\n",
      "N         66.983889\n"
     ]
    }
   ],
   "source": [
    "catanalysis(df,cat_cols)"
   ]
  },
  {
   "cell_type": "markdown",
   "id": "ea911d84",
   "metadata": {},
   "source": [
    "-From the pivot tables above, there are some problematic entries, like CCA and Tuition, where the responses are not capitalized. Lets fix them and continue the analysis\n",
    "\n",
    "-Transport and bag color do not seem to have a huge difference in the mean scores, so they will be ignored"
   ]
  },
  {
   "cell_type": "code",
   "execution_count": 279,
   "id": "02c4dde6",
   "metadata": {},
   "outputs": [],
   "source": [
    "# Data cleaning for CCA\n",
    "df.loc[df['CCA'] == 'Arts', 'CCA'] = 'ARTS'\n",
    "df.loc[df['CCA'] == 'Clubs', 'CCA'] = 'CLUBS'\n",
    "df.loc[df['CCA'] == 'None', 'CCA'] = 'NONE'\n",
    "df.loc[df['CCA'] == 'Sports', 'CCA'] = 'SPORTS'\n",
    "\n",
    "# Data cleaning for Tuition\n",
    "df.loc[df['tuition'] == 'Yes', 'tuition'] = 'Y'\n",
    "df.loc[df['tuition'] == 'No', 'tuition'] = 'N'"
   ]
  },
  {
   "cell_type": "code",
   "execution_count": 280,
   "id": "30df0cc9",
   "metadata": {},
   "outputs": [
    {
     "name": "stdout",
     "output_type": "stream",
     "text": [
      "\n",
      " -------- Pivot Table for direct_admission --------\n",
      "                  final_test\n",
      "direct_admission            \n",
      "No                 64.989500\n",
      "Yes                72.359719\n",
      "\n",
      " -------- Pivot Table for CCA --------\n",
      "        final_test\n",
      "CCA               \n",
      "ARTS     64.061989\n",
      "CLUBS    63.850761\n",
      "NONE     76.778648\n",
      "SPORTS   64.041894\n",
      "\n",
      " -------- Pivot Table for learning_style --------\n",
      "                final_test\n",
      "learning_style            \n",
      "Auditory         63.888324\n",
      "Visual           71.586307\n",
      "\n",
      " -------- Pivot Table for gender --------\n",
      "        final_test\n",
      "gender            \n",
      "Female   66.999869\n",
      "Male     67.329158\n",
      "\n",
      " -------- Pivot Table for tuition --------\n",
      "         final_test\n",
      "tuition            \n",
      "N         62.864404\n",
      "Y         70.466154\n",
      "\n",
      " -------- Pivot Table for schtype --------\n",
      "         final_test\n",
      "schtype            \n",
      "F         67.930836\n",
      "M         69.533058\n",
      "N         66.983889\n"
     ]
    }
   ],
   "source": [
    "cat_cols = ['direct_admission','CCA','learning_style','gender','tuition','schtype']\n",
    "catanalysis(df,cat_cols)"
   ]
  },
  {
   "cell_type": "markdown",
   "id": "10a10299",
   "metadata": {},
   "source": [
    "## Summary of Categorical Features\n",
    "\n",
    "1) Direct Admission, Tuition and a Visual Learning Style seems to have a positive effect on the final O level Math score, which is expected as the students who performed better in PSLE get to join direct admission, students with access to tuition have another source of education, while Visual Learning seems more applicable to a logic based subject like Mathematics.\n",
    "\n",
    "2) Those without CCAs also tended to perform better (on average) as compared to those without, perhaps due to the extra time students had after school to practice and master the subject.\n",
    "\n",
    "3) On average,males performed better than females, and those from a male only class seemed to do better as well. Mixed gender classes also performed worse than a controlled gender class!"
   ]
  },
  {
   "cell_type": "markdown",
   "id": "42832422",
   "metadata": {},
   "source": [
    "## Start of Model Building (Approach 1, Regression)\n",
    "\n",
    "- Firstly, the data has to be split into training and test sets, and the missing values in attendance_rate has to be imputed.\n",
    "\n",
    "- Categorical Features will be one hot encoded\n",
    "\n",
    "- Following, the numerical features will be scaled to allow for faster model training.\n",
    "\n",
    "- Lastly, regression models will be used for training"
   ]
  },
  {
   "cell_type": "code",
   "execution_count": 281,
   "id": "84f8bd0b",
   "metadata": {},
   "outputs": [],
   "source": [
    "from sklearn.preprocessing import StandardScaler, MinMaxScaler, LabelEncoder\n",
    "from sklearn.model_selection import train_test_split\n",
    "from sklearn.metrics import r2_score\n",
    "\n",
    "\n",
    "from sklearn.ensemble import RandomForestRegressor\n",
    "from sklearn import svm\n",
    "from sklearn.linear_model import SGDRegressor\n",
    "from sklearn import linear_model\n",
    "from sklearn.neighbors import KNeighborsRegressor"
   ]
  },
  {
   "cell_type": "code",
   "execution_count": 282,
   "id": "2b756b91",
   "metadata": {},
   "outputs": [
    {
     "name": "stdout",
     "output_type": "stream",
     "text": [
      "<class 'pandas.core.frame.DataFrame'>\n",
      "Int64Index: 15405 entries, 0 to 15899\n",
      "Data columns (total 21 columns):\n",
      " #   Column              Non-Null Count  Dtype  \n",
      "---  ------              --------------  -----  \n",
      " 0   index               15405 non-null  int64  \n",
      " 1   number_of_siblings  15405 non-null  int64  \n",
      " 2   direct_admission    15405 non-null  object \n",
      " 3   CCA                 15405 non-null  object \n",
      " 4   learning_style      15405 non-null  object \n",
      " 5   student_id          15405 non-null  object \n",
      " 6   gender              15405 non-null  object \n",
      " 7   tuition             15405 non-null  object \n",
      " 8   final_test          15405 non-null  float64\n",
      " 9   n_male              15405 non-null  float64\n",
      " 10  n_female            15405 non-null  float64\n",
      " 11  age                 15405 non-null  float64\n",
      " 12  hours_per_week      15405 non-null  float64\n",
      " 13  attendance_rate     14648 non-null  float64\n",
      " 14  sleep_time          15405 non-null  object \n",
      " 15  wake_time           15405 non-null  object \n",
      " 16  mode_of_transport   15405 non-null  object \n",
      " 17  bag_color           15405 non-null  object \n",
      " 18  sleep               15405 non-null  int64  \n",
      " 19  classmates          15405 non-null  float64\n",
      " 20  schtype             15405 non-null  object \n",
      "dtypes: float64(7), int64(3), object(11)\n",
      "memory usage: 2.6+ MB\n"
     ]
    }
   ],
   "source": [
    "df.info()"
   ]
  },
  {
   "cell_type": "code",
   "execution_count": 283,
   "id": "608a89f1",
   "metadata": {},
   "outputs": [],
   "source": [
    "# Extracting the features that will be used for training\n",
    "table = df[['number_of_siblings','direct_admission','CCA','learning_style','gender','tuition','age','hours_per_week',\n",
    "          'attendance_rate','sleep','classmates','schtype']]\n",
    "\n",
    "# Target is the variable we want to predict, the student's test scores\n",
    "target = df['final_test']"
   ]
  },
  {
   "cell_type": "code",
   "execution_count": 284,
   "id": "168f092a",
   "metadata": {},
   "outputs": [],
   "source": [
    "cat = ['direct_admission','CCA','learning_style','gender','tuition','schtype'] # 6 total categorical features\n",
    "\n",
    "num = ['number_of_siblings','age','hours_per_week','attendance_rate','sleep','classmates'] # 6 total numerical features"
   ]
  },
  {
   "cell_type": "code",
   "execution_count": 285,
   "id": "4d6f729d",
   "metadata": {},
   "outputs": [],
   "source": [
    "def preprocess(X,y,flag): # Function for preprocessing data in training\n",
    "    scaler = StandardScaler()\n",
    "    target_scaler = MinMaxScaler()\n",
    "    \n",
    "    '''One hot encoding categorical variables'''\n",
    "    X = pd.get_dummies(X,['direct_admission','CCA','learning_style','gender','tuition','schtype'])\n",
    "    \n",
    "    \n",
    "    ''' Split dataset into test and training'''\n",
    "    X_train, X_test, y_train, y_test = train_test_split(X,y, test_size=0.2, random_state = 42) # For reproducibility\n",
    "    \n",
    "    '''Impute missing values in attendance_rate, without any spillover from training data'''\n",
    "    X_train['attendance_rate'].fillna(X_train['attendance_rate'].median(), inplace = True)\n",
    "    X_test['attendance_rate'].fillna(X_test['attendance_rate'].median(), inplace = True)\n",
    "    \n",
    "    '''Scaling of numerical data'''\n",
    "    X_train[num] = scaler.fit_transform(X_train[num])\n",
    "    X_test[num] = scaler.transform(X_test[num])\n",
    "    \n",
    "    if flag == 'reg': #If the problem is regression, the target needs to be scaled as well\n",
    "        y_train = target_scaler.fit_transform(y_train.values.reshape(-1,1))\n",
    "        y_test = target_scaler.transform(y_test.values.reshape(-1,1))\n",
    "        return X_train, X_test, y_train, y_test, target_scaler \n",
    "        \n",
    "    \n",
    "    \n",
    "    return X_train, X_test, y_train, y_test"
   ]
  },
  {
   "cell_type": "code",
   "execution_count": 286,
   "id": "bd3baed9",
   "metadata": {},
   "outputs": [
    {
     "name": "stderr",
     "output_type": "stream",
     "text": [
      "C:\\Users\\De Yuan\\Anaconda3\\lib\\site-packages\\pandas\\core\\generic.py:6383: SettingWithCopyWarning: \n",
      "A value is trying to be set on a copy of a slice from a DataFrame\n",
      "\n",
      "See the caveats in the documentation: https://pandas.pydata.org/pandas-docs/stable/user_guide/indexing.html#returning-a-view-versus-a-copy\n",
      "  return self._update_inplace(result)\n",
      "C:\\Users\\De Yuan\\Anaconda3\\lib\\site-packages\\pandas\\core\\frame.py:3607: SettingWithCopyWarning: \n",
      "A value is trying to be set on a copy of a slice from a DataFrame.\n",
      "Try using .loc[row_indexer,col_indexer] = value instead\n",
      "\n",
      "See the caveats in the documentation: https://pandas.pydata.org/pandas-docs/stable/user_guide/indexing.html#returning-a-view-versus-a-copy\n",
      "  self._set_item(key, value)\n",
      "C:\\Users\\De Yuan\\Anaconda3\\lib\\site-packages\\pandas\\core\\frame.py:3607: SettingWithCopyWarning: \n",
      "A value is trying to be set on a copy of a slice from a DataFrame.\n",
      "Try using .loc[row_indexer,col_indexer] = value instead\n",
      "\n",
      "See the caveats in the documentation: https://pandas.pydata.org/pandas-docs/stable/user_guide/indexing.html#returning-a-view-versus-a-copy\n",
      "  self._set_item(key, value)\n"
     ]
    }
   ],
   "source": [
    "X_train, X_test, y_train, y_test, scaler = preprocess(table,target,'reg')"
   ]
  },
  {
   "cell_type": "code",
   "execution_count": 287,
   "id": "bf735597",
   "metadata": {},
   "outputs": [],
   "source": [
    "def Random_Forest(X_train, X_test, y_train, y_test):\n",
    "    RFF = RandomForestRegressor(random_state = 42)\n",
    "    RFF.fit(X_train, y_train.ravel())\n",
    "    RFF_predictions = RFF.predict(X_test)\n",
    "    print('Random Forest Regressor score is %f' % RFF.score(X_test, y_test))\n",
    "    print(scaler.inverse_transform(RFF_predictions.reshape(-1,1)))\n",
    "    return RFF\n",
    "    \n",
    "def Support_Vector(X_train, X_test, y_train, y_test):\n",
    "    SVMreg = svm.SVR()\n",
    "    SVMreg.fit(X_train, y_train.ravel())\n",
    "    predictions =SVMreg.predict(X_test)\n",
    "    print('Support Vector Regressor score is %f' % SVMreg.score(X_test, y_test))\n",
    "    return SVMreg\n",
    "\n",
    "def linear_regression(X_train, X_test, y_train, y_test):\n",
    "    lm = linear_model.LinearRegression()\n",
    "    lm.fit(X_train, y_train)\n",
    "    lm_predictions = lm.predict(X_test)\n",
    "    print('Linear Regression score is %f' % lm.score(X_test, y_test))\n",
    "    return lm\n",
    "    \n",
    "def KNearest_neighbor(X_train, X_test, y_train, y_test):\n",
    "    KNNR = KNeighborsRegressor()\n",
    "    KNNR.fit(X_train,y_train)\n",
    "    print('K-Nearest Neighbors Regressor score is %f' % KNNR.score(X_test, y_test))\n",
    "    return KNNR"
   ]
  },
  {
   "cell_type": "code",
   "execution_count": 288,
   "id": "d92538f4",
   "metadata": {},
   "outputs": [
    {
     "name": "stdout",
     "output_type": "stream",
     "text": [
      "------ Approach 1 Scores -----\n",
      "Random Forest Regressor score is 0.853275\n",
      "[[64.954]\n",
      " [61.55 ]\n",
      " [61.79 ]\n",
      " ...\n",
      " [60.15 ]\n",
      " [80.99 ]\n",
      " [67.59 ]]\n",
      "Support Vector Regressor score is 0.733955\n",
      "Linear Regression score is 0.578098\n",
      "K-Nearest Neighbors Regressor score is 0.694547\n"
     ]
    }
   ],
   "source": [
    "print('------ Approach 1 Scores -----')\n",
    "\n",
    "RFF = Random_Forest(X_train, X_test, y_train, y_test)\n",
    "SVMreg = Support_Vector(X_train, X_test, y_train, y_test)\n",
    "lm = linear_regression(X_train, X_test, y_train, y_test)\n",
    "KNNR = KNearest_neighbor(X_train, X_test, y_train, y_test)"
   ]
  },
  {
   "cell_type": "code",
   "execution_count": null,
   "id": "0949e525",
   "metadata": {},
   "outputs": [],
   "source": [
    "RFF_predictions"
   ]
  },
  {
   "cell_type": "markdown",
   "id": "28978ca1",
   "metadata": {},
   "source": [
    "## Model Building (Approach 2, Classification)\n",
    "- Simple split from 66th and 33rd percentile, to ensure that there are 3 classes with relatively equal distribution for easier model training\n",
    "\n",
    "| Raw Score  | Final Grade |\n",
    "| ---------  | ----------- |\n",
    "| 74 & Above |    Good     |\n",
    "|  60 to 73  |   Average   |\n",
    "| 59 & Below |  Needs Help |\n",
    "\n"
   ]
  },
  {
   "cell_type": "code",
   "execution_count": 302,
   "id": "28eda68f",
   "metadata": {},
   "outputs": [
    {
     "name": "stdout",
     "output_type": "stream",
     "text": [
      "60.0 74.0\n"
     ]
    }
   ],
   "source": [
    "print(df['final_test'].quantile(0.33),df['final_test'].quantile(0.66))\n",
    "# Simple way to split dataset into 3 relatively equally sized classes"
   ]
  },
  {
   "cell_type": "code",
   "execution_count": 303,
   "id": "9e28dbd3",
   "metadata": {},
   "outputs": [],
   "source": [
    "from sklearn.metrics import confusion_matrix, ConfusionMatrixDisplay, f1_score, make_scorer, mean_absolute_error, mean_squared_error\n",
    "\n",
    "from sklearn.svm import SVC\n",
    "from sklearn.tree import DecisionTreeClassifier\n",
    "from sklearn.ensemble import RandomForestClassifier"
   ]
  },
  {
   "cell_type": "code",
   "execution_count": 304,
   "id": "c2e32661",
   "metadata": {},
   "outputs": [],
   "source": [
    "def grading(row):\n",
    "    score = row['final_test']\n",
    "    if score >= 74:\n",
    "        return 'Good' # High Distinction\n",
    "    elif score >= 60:\n",
    "        return 'Average' # Distinction\n",
    "    else: \n",
    "        return 'Needs Help' # Merit\n",
    "   \n"
   ]
  },
  {
   "cell_type": "code",
   "execution_count": 305,
   "id": "9eee1aa4",
   "metadata": {},
   "outputs": [],
   "source": [
    "df['grade'] = df.apply(grading,axis =1)"
   ]
  },
  {
   "cell_type": "code",
   "execution_count": 306,
   "id": "5ea73643",
   "metadata": {},
   "outputs": [
    {
     "data": {
      "text/plain": [
       "Good          5319\n",
       "Needs Help    5063\n",
       "Average       5023\n",
       "Name: grade, dtype: int64"
      ]
     },
     "execution_count": 306,
     "metadata": {},
     "output_type": "execute_result"
    }
   ],
   "source": [
    "df['grade'].value_counts()"
   ]
  },
  {
   "cell_type": "code",
   "execution_count": 307,
   "id": "a8b1d92c",
   "metadata": {},
   "outputs": [
    {
     "name": "stderr",
     "output_type": "stream",
     "text": [
      "C:\\Users\\De Yuan\\Anaconda3\\lib\\site-packages\\pandas\\core\\generic.py:6383: SettingWithCopyWarning: \n",
      "A value is trying to be set on a copy of a slice from a DataFrame\n",
      "\n",
      "See the caveats in the documentation: https://pandas.pydata.org/pandas-docs/stable/user_guide/indexing.html#returning-a-view-versus-a-copy\n",
      "  return self._update_inplace(result)\n",
      "C:\\Users\\De Yuan\\Anaconda3\\lib\\site-packages\\pandas\\core\\frame.py:3607: SettingWithCopyWarning: \n",
      "A value is trying to be set on a copy of a slice from a DataFrame.\n",
      "Try using .loc[row_indexer,col_indexer] = value instead\n",
      "\n",
      "See the caveats in the documentation: https://pandas.pydata.org/pandas-docs/stable/user_guide/indexing.html#returning-a-view-versus-a-copy\n",
      "  self._set_item(key, value)\n",
      "C:\\Users\\De Yuan\\Anaconda3\\lib\\site-packages\\pandas\\core\\frame.py:3607: SettingWithCopyWarning: \n",
      "A value is trying to be set on a copy of a slice from a DataFrame.\n",
      "Try using .loc[row_indexer,col_indexer] = value instead\n",
      "\n",
      "See the caveats in the documentation: https://pandas.pydata.org/pandas-docs/stable/user_guide/indexing.html#returning-a-view-versus-a-copy\n",
      "  self._set_item(key, value)\n"
     ]
    }
   ],
   "source": [
    "# Features are unchanged from before\n",
    "table = df[['number_of_siblings','direct_admission','CCA','learning_style','gender','tuition','age','hours_per_week',\n",
    "          'attendance_rate','sleep','classmates','schtype']]\n",
    "\n",
    "# Target variable is now the grade column\n",
    "target = df['grade']\n",
    "\n",
    "# Preprocessing the data\n",
    "X_train, X_test, y_train, y_test = preprocess(table,target,'class')"
   ]
  },
  {
   "cell_type": "code",
   "execution_count": 308,
   "id": "53a732fa",
   "metadata": {},
   "outputs": [
    {
     "name": "stdout",
     "output_type": "stream",
     "text": [
      "------ DecisionTreeClassifier() ------\n",
      "Average Accuracy:  0.7806\n",
      "Average f1_score:  0.7816\n"
     ]
    },
    {
     "data": {
      "image/png": "[encoded data removed]",
      "text/plain": [
       "<Figure size 432x288 with 2 Axes>"
      ]
     },
     "metadata": {
      "needs_background": "light"
     },
     "output_type": "display_data"
    }
   ],
   "source": [
    "# Simple decision tree classifier\n",
    "dtree_model = DecisionTreeClassifier().fit(X_train, y_train)\n",
    "dtree_predictions = dtree_model.predict(X_test)\n",
    "  \n",
    "# creating a confusion matrix\n",
    "plotcm(dtree_model, dtree_predictions,X_test,y_test)\n"
   ]
  },
  {
   "cell_type": "code",
   "execution_count": 309,
   "id": "4bdaeb86",
   "metadata": {},
   "outputs": [],
   "source": [
    "def plotcm(model, predictions,X_test, y_test): # Function to help plot confusion matrix, calculate score and f1 score\n",
    "    cm = confusion_matrix(y_test,predictions,labels = model.classes_)\n",
    "    disp = ConfusionMatrixDisplay(cm, display_labels = model.classes_)\n",
    "    print('------ ' + str(model) + ' ------')\n",
    "    disp.plot()\n",
    "    print('Average Accuracy: ',\"{:.4f}\".format(model.score(X_test,y_test)))\n",
    "    print('Average f1_score: ',\n",
    "          \"{:.4f}\".format(f1_score(y_test,predictions,labels = model.classes_, average='weighted')))"
   ]
  },
  {
   "cell_type": "code",
   "execution_count": 310,
   "id": "4413ce14",
   "metadata": {},
   "outputs": [
    {
     "name": "stdout",
     "output_type": "stream",
     "text": [
      "------ SVC() ------\n",
      "Average Accuracy:  0.7627\n",
      "Average f1_score:  0.7630\n"
     ]
    },
    {
     "data": {
      "image/png": "[encoded data removed]",
      "text/plain": [
       "<Figure size 432x288 with 2 Axes>"
      ]
     },
     "metadata": {
      "needs_background": "light"
     },
     "output_type": "display_data"
    }
   ],
   "source": [
    "svm_model = SVC().fit(X_train, y_train)\n",
    "svm_predictions = svm_model.predict(X_test)\n",
    "\n",
    "plotcm(svm_model, svm_predictions,X_test,y_test)\n",
    "\n"
   ]
  },
  {
   "cell_type": "code",
   "execution_count": 311,
   "id": "c9267ebf",
   "metadata": {},
   "outputs": [
    {
     "name": "stdout",
     "output_type": "stream",
     "text": [
      "------ RandomForestClassifier(random_state=42) ------\n",
      "Average Accuracy:  0.8114\n",
      "Average f1_score:  0.8115\n"
     ]
    },
    {
     "data": {
      "image/png": "[encoded data removed]",
      "text/plain": [
       "<Figure size 432x288 with 2 Axes>"
      ]
     },
     "metadata": {
      "needs_background": "light"
     },
     "output_type": "display_data"
    }
   ],
   "source": [
    "RFC_model = RandomForestClassifier(random_state=42).fit(X_train,y_train)\n",
    "RFC_predictions = RFC_model.predict(X_test)\n",
    "\n",
    "plotcm(RFC_model, RFC_predictions,X_test,y_test)"
   ]
  },
  {
   "cell_type": "code",
   "execution_count": 143,
   "id": "cf5bb153",
   "metadata": {},
   "outputs": [],
   "source": [
    "from sklearn.model_selection import RandomizedSearchCV\n",
    "\n",
    "criterion = ['gini','entropy']\n",
    "max_depth = [int(x) for x in np.linspace(10, 200, num = 10)]\n",
    "min_samples_split = [2, 5, 10]\n",
    "n_estimators = [int(x) for x in np.linspace(start = 200, stop = 2000, num = 10)]\n",
    "\n",
    "random_grid = {'n_estimators': n_estimators,\n",
    "               'criterion' : criterion,\n",
    "               'max_depth': max_depth,\n",
    "               'min_samples_split': min_samples_split}\n",
    "\n",
    "RFC = RandomForestClassifier(random_state=42)\n",
    "\n",
    "scorer = make_scorer(f1_score, average = 'weighted') # Using weighted f1_score as the metric\n",
    "\n",
    "RFC_random = RandomizedSearchCV(estimator = RFC, param_distributions = random_grid, n_iter = 20,\n",
    "                                scoring= scorer,\n",
    "                                cv=3, verbose =2, random_state =42)\n",
    "\n"
   ]
  },
  {
   "cell_type": "code",
   "execution_count": 144,
   "id": "a34d673b",
   "metadata": {},
   "outputs": [
    {
     "name": "stdout",
     "output_type": "stream",
     "text": [
      "Fitting 3 folds for each of 20 candidates, totalling 60 fits\n",
      "[CV] END criterion=gini, max_depth=73, min_samples_split=10, n_estimators=200; total time=   1.9s\n",
      "[CV] END criterion=gini, max_depth=73, min_samples_split=10, n_estimators=200; total time=   2.4s\n",
      "[CV] END criterion=gini, max_depth=73, min_samples_split=10, n_estimators=200; total time=   1.9s\n",
      "[CV] END criterion=entropy, max_depth=73, min_samples_split=10, n_estimators=2000; total time=  25.7s\n",
      "[CV] END criterion=entropy, max_depth=73, min_samples_split=10, n_estimators=2000; total time=  25.9s\n",
      "[CV] END criterion=entropy, max_depth=73, min_samples_split=10, n_estimators=2000; total time=  27.5s\n",
      "[CV] END criterion=entropy, max_depth=178, min_samples_split=10, n_estimators=1200; total time=  14.8s\n",
      "[CV] END criterion=entropy, max_depth=178, min_samples_split=10, n_estimators=1200; total time=  15.0s\n",
      "[CV] END criterion=entropy, max_depth=178, min_samples_split=10, n_estimators=1200; total time=  15.0s\n",
      "[CV] END criterion=gini, max_depth=52, min_samples_split=5, n_estimators=1600; total time=  27.0s\n",
      "[CV] END criterion=gini, max_depth=52, min_samples_split=5, n_estimators=1600; total time=  26.1s\n",
      "[CV] END criterion=gini, max_depth=52, min_samples_split=5, n_estimators=1600; total time=  27.4s\n",
      "[CV] END criterion=gini, max_depth=136, min_samples_split=2, n_estimators=400; total time=   5.6s\n",
      "[CV] END criterion=gini, max_depth=136, min_samples_split=2, n_estimators=400; total time=   5.8s\n",
      "[CV] END criterion=gini, max_depth=136, min_samples_split=2, n_estimators=400; total time=   5.6s\n",
      "[CV] END criterion=gini, max_depth=200, min_samples_split=5, n_estimators=1000; total time=  15.0s\n",
      "[CV] END criterion=gini, max_depth=200, min_samples_split=5, n_estimators=1000; total time=  15.0s\n",
      "[CV] END criterion=gini, max_depth=200, min_samples_split=5, n_estimators=1000; total time=  15.0s\n",
      "[CV] END criterion=gini, max_depth=10, min_samples_split=5, n_estimators=200; total time=   2.4s\n",
      "[CV] END criterion=gini, max_depth=10, min_samples_split=5, n_estimators=200; total time=   2.3s\n",
      "[CV] END criterion=gini, max_depth=10, min_samples_split=5, n_estimators=200; total time=   2.1s\n",
      "[CV] END criterion=entropy, max_depth=115, min_samples_split=5, n_estimators=2000; total time=  35.8s\n",
      "[CV] END criterion=entropy, max_depth=115, min_samples_split=5, n_estimators=2000; total time=  35.7s\n",
      "[CV] END criterion=entropy, max_depth=115, min_samples_split=5, n_estimators=2000; total time=  34.1s\n",
      "[CV] END criterion=gini, max_depth=52, min_samples_split=5, n_estimators=1800; total time=  29.5s\n",
      "[CV] END criterion=gini, max_depth=52, min_samples_split=5, n_estimators=1800; total time=  31.2s\n",
      "[CV] END criterion=gini, max_depth=52, min_samples_split=5, n_estimators=1800; total time=  30.2s\n",
      "[CV] END criterion=entropy, max_depth=31, min_samples_split=5, n_estimators=2000; total time=  34.7s\n",
      "[CV] END criterion=entropy, max_depth=31, min_samples_split=5, n_estimators=2000; total time=  35.0s\n",
      "[CV] END criterion=entropy, max_depth=31, min_samples_split=5, n_estimators=2000; total time=  32.5s\n",
      "[CV] END criterion=gini, max_depth=31, min_samples_split=10, n_estimators=1200; total time=  13.3s\n",
      "[CV] END criterion=gini, max_depth=31, min_samples_split=10, n_estimators=1200; total time=  14.3s\n",
      "[CV] END criterion=gini, max_depth=31, min_samples_split=10, n_estimators=1200; total time=  14.7s\n",
      "[CV] END criterion=gini, max_depth=73, min_samples_split=10, n_estimators=1800; total time=  21.0s\n",
      "[CV] END criterion=gini, max_depth=73, min_samples_split=10, n_estimators=1800; total time=  23.2s\n",
      "[CV] END criterion=gini, max_depth=73, min_samples_split=10, n_estimators=1800; total time=  23.2s\n",
      "[CV] END criterion=gini, max_depth=73, min_samples_split=5, n_estimators=2000; total time=  35.2s\n",
      "[CV] END criterion=gini, max_depth=73, min_samples_split=5, n_estimators=2000; total time=  31.8s\n",
      "[CV] END criterion=gini, max_depth=73, min_samples_split=5, n_estimators=2000; total time=  32.3s\n",
      "[CV] END criterion=entropy, max_depth=200, min_samples_split=5, n_estimators=1800; total time=  32.0s\n",
      "[CV] END criterion=entropy, max_depth=200, min_samples_split=5, n_estimators=1800; total time=  30.3s\n",
      "[CV] END criterion=entropy, max_depth=200, min_samples_split=5, n_estimators=1800; total time=  30.6s\n",
      "[CV] END criterion=entropy, max_depth=52, min_samples_split=2, n_estimators=2000; total time=  35.5s\n",
      "[CV] END criterion=entropy, max_depth=52, min_samples_split=2, n_estimators=2000; total time=  37.7s\n",
      "[CV] END criterion=entropy, max_depth=52, min_samples_split=2, n_estimators=2000; total time=  36.3s\n",
      "[CV] END criterion=gini, max_depth=157, min_samples_split=10, n_estimators=1000; total time=  11.8s\n",
      "[CV] END criterion=gini, max_depth=157, min_samples_split=10, n_estimators=1000; total time=  10.9s\n",
      "[CV] END criterion=gini, max_depth=157, min_samples_split=10, n_estimators=1000; total time=  11.5s\n",
      "[CV] END criterion=gini, max_depth=31, min_samples_split=2, n_estimators=200; total time=   3.2s\n",
      "[CV] END criterion=gini, max_depth=31, min_samples_split=2, n_estimators=200; total time=   2.9s\n",
      "[CV] END criterion=gini, max_depth=31, min_samples_split=2, n_estimators=200; total time=   2.8s\n",
      "[CV] END criterion=gini, max_depth=157, min_samples_split=2, n_estimators=600; total time=   8.4s\n",
      "[CV] END criterion=gini, max_depth=157, min_samples_split=2, n_estimators=600; total time=   9.3s\n",
      "[CV] END criterion=gini, max_depth=157, min_samples_split=2, n_estimators=600; total time=   9.6s\n",
      "[CV] END criterion=gini, max_depth=136, min_samples_split=2, n_estimators=1000; total time=  14.5s\n",
      "[CV] END criterion=gini, max_depth=136, min_samples_split=2, n_estimators=1000; total time=  14.6s\n",
      "[CV] END criterion=gini, max_depth=136, min_samples_split=2, n_estimators=1000; total time=  16.3s\n",
      "[CV] END criterion=gini, max_depth=52, min_samples_split=10, n_estimators=1400; total time=  16.4s\n",
      "[CV] END criterion=gini, max_depth=52, min_samples_split=10, n_estimators=1400; total time=  14.7s\n",
      "[CV] END criterion=gini, max_depth=52, min_samples_split=10, n_estimators=1400; total time=  16.4s\n"
     ]
    },
    {
     "data": {
      "text/plain": [
       "RandomizedSearchCV(cv=3, estimator=RandomForestClassifier(random_state=42),\n",
       "                   n_iter=20,\n",
       "                   param_distributions={'criterion': ['gini', 'entropy'],\n",
       "                                        'max_depth': [10, 31, 52, 73, 94, 115,\n",
       "                                                      136, 157, 178, 200],\n",
       "                                        'min_samples_split': [2, 5, 10],\n",
       "                                        'n_estimators': [200, 400, 600, 800,\n",
       "                                                         1000, 1200, 1400, 1600,\n",
       "                                                         1800, 2000]},\n",
       "                   random_state=42,\n",
       "                   scoring=make_scorer(f1_score, average=weighted), verbose=2)"
      ]
     },
     "execution_count": 144,
     "metadata": {},
     "output_type": "execute_result"
    }
   ],
   "source": [
    "# This takes about 10 minutes to fully run\n",
    "RFC_random.fit(X_train,y_train)"
   ]
  },
  {
   "cell_type": "code",
   "execution_count": 146,
   "id": "391eeb69",
   "metadata": {},
   "outputs": [
    {
     "name": "stdout",
     "output_type": "stream",
     "text": [
      "{'n_estimators': 2000, 'min_samples_split': 10, 'max_depth': 73, 'criterion': 'entropy'}\n"
     ]
    }
   ],
   "source": [
    "print(RFC_random.best_params_)\n",
    "\n",
    "best_random = RFC_random.best_estimator_"
   ]
  },
  {
   "cell_type": "code",
   "execution_count": 162,
   "id": "3988f1db",
   "metadata": {},
   "outputs": [
    {
     "name": "stdout",
     "output_type": "stream",
     "text": [
      "------ RandomForestClassifier(criterion='entropy', max_depth=73, min_samples_split=10,\n",
      "                       n_estimators=2000, random_state=42) ------\n",
      "Average Accuracy:  0.8221\n",
      "Average f1_score:  0.8221\n"
     ]
    },
    {
     "data": {
      "image/png": "[encoded data removed]",
      "text/plain": [
       "<Figure size 432x288 with 2 Axes>"
      ]
     },
     "metadata": {
      "needs_background": "light"
     },
     "output_type": "display_data"
    }
   ],
   "source": [
    "plotcm(best_random, best_random.predict(X_test),X_test,y_test)"
   ]
  },
  {
   "cell_type": "code",
   "execution_count": 151,
   "id": "dc3f8cc2",
   "metadata": {},
   "outputs": [],
   "source": [
    "from sklearn.model_selection import GridSearchCV\n",
    "\n",
    "# Performing Grid search with similar hyperparameters to random search result \n",
    "criterion = ['entropy']\n",
    "max_depth = [70,80]\n",
    "min_samples_split = [10,15]\n",
    "n_estimators = [2000,2500]\n",
    "\n",
    "param_grid = {'n_estimators': n_estimators,\n",
    "               'criterion' : criterion,\n",
    "               'max_depth': max_depth,\n",
    "               'min_samples_split': min_samples_split}\n",
    "\n",
    "grid_search = GridSearchCV(estimator = RFC, param_grid = param_grid, scoring= scorer,\n",
    "                          cv = 3, n_jobs = -1, verbose = 2)"
   ]
  },
  {
   "cell_type": "code",
   "execution_count": 152,
   "id": "782a30c7",
   "metadata": {
    "scrolled": true
   },
   "outputs": [
    {
     "name": "stdout",
     "output_type": "stream",
     "text": [
      "Fitting 3 folds for each of 8 candidates, totalling 24 fits\n"
     ]
    },
    {
     "data": {
      "text/plain": [
       "GridSearchCV(cv=3, estimator=RandomForestClassifier(random_state=42), n_jobs=-1,\n",
       "             param_grid={'criterion': ['entropy'], 'max_depth': [70, 80],\n",
       "                         'min_samples_split': [10, 15],\n",
       "                         'n_estimators': [2000, 2500]},\n",
       "             scoring=make_scorer(f1_score, average=weighted), verbose=2)"
      ]
     },
     "execution_count": 152,
     "metadata": {},
     "output_type": "execute_result"
    }
   ],
   "source": [
    "grid_search.fit(X_train,y_train)"
   ]
  },
  {
   "cell_type": "code",
   "execution_count": 312,
   "id": "57aa9b9d",
   "metadata": {},
   "outputs": [
    {
     "name": "stdout",
     "output_type": "stream",
     "text": [
      "{'criterion': 'entropy', 'max_depth': 70, 'min_samples_split': 10, 'n_estimators': 2500}\n"
     ]
    }
   ],
   "source": [
    "print(grid_search.best_params_)\n",
    "\n",
    "best_grid = grid_search.best_estimator_"
   ]
  },
  {
   "cell_type": "code",
   "execution_count": 313,
   "id": "7bd47c37",
   "metadata": {},
   "outputs": [
    {
     "name": "stdout",
     "output_type": "stream",
     "text": [
      "------ RandomForestClassifier(criterion='entropy', max_depth=70, min_samples_split=10,\n",
      "                       n_estimators=2500, random_state=42) ------\n",
      "Average Accuracy:  0.8231\n",
      "Average f1_score:  0.8231\n"
     ]
    },
    {
     "data": {
      "image/png": "[encoded data removed]",
      "text/plain": [
       "<Figure size 432x288 with 2 Axes>"
      ]
     },
     "metadata": {
      "needs_background": "light"
     },
     "output_type": "display_data"
    }
   ],
   "source": [
    "plotcm(best_grid, best_grid.predict(X_test),X_test,y_test)"
   ]
  },
  {
   "cell_type": "markdown",
   "id": "75a951e1",
   "metadata": {},
   "source": [
    "- As seen from the confusion matrix, the Accuracy and F1-score are relatively high, at 0.8231 each for the final model.\n",
    "\n",
    "- The main source of confusion for the model is correctly distinguishing the average students from the good ones and the ones who require help.\n",
    "\n",
    "- This is understandable as the 'average' class was defined as those who scored between 60 to 73 points, which is right between the good and underperforming students.\n",
    "\n",
    "- This will be illustrated by looking at the students which the model predicted incorrectly, to see their actual scores."
   ]
  },
  {
   "cell_type": "markdown",
   "id": "fb0ad92d",
   "metadata": {},
   "source": [
    "## Model Evaluation\n",
    "\n",
    "- From the two approaches, the two best performing models were the random forest regressor and the random forest classifier.\n",
    "\n",
    "- The two models will be used to generate predictions for the entire dataset, and analysis will be done to justify which model would be more useful in this scenario"
   ]
  },
  {
   "cell_type": "code",
   "execution_count": 314,
   "id": "c0939fe1",
   "metadata": {},
   "outputs": [],
   "source": [
    "def preprocesstable(table):\n",
    "    scaler = StandardScaler()\n",
    "    \n",
    "    '''One hot encoding categorical variables'''\n",
    "    table = pd.get_dummies(table,['direct_admission','CCA','learning_style','gender','tuition','schtype'])\n",
    "    \n",
    "    '''Impute missing values in attendance_rate, without any spillover from training data'''\n",
    "    table['attendance_rate'].fillna(table['attendance_rate'].median(), inplace = True)\n",
    "    \n",
    "    '''Scaling of numerical data'''\n",
    "    table[num] = scaler.fit_transform(table[num])\n",
    "    \n",
    "    return table"
   ]
  },
  {
   "cell_type": "code",
   "execution_count": 315,
   "id": "40ec60e4",
   "metadata": {},
   "outputs": [],
   "source": [
    "table = preprocesstable(table) #preprocess the entire table"
   ]
  },
  {
   "cell_type": "code",
   "execution_count": 316,
   "id": "118a7e20",
   "metadata": {},
   "outputs": [],
   "source": [
    "df['predicted_grade'] = best_grid.predict(table)"
   ]
  },
  {
   "cell_type": "code",
   "execution_count": 317,
   "id": "1ae22c51",
   "metadata": {},
   "outputs": [
    {
     "data": {
      "text/html": [
       "<div>\n",
       "<style scoped>\n",
       "    .dataframe tbody tr th:only-of-type {\n",
       "        vertical-align: middle;\n",
       "    }\n",
       "\n",
       "    .dataframe tbody tr th {\n",
       "        vertical-align: top;\n",
       "    }\n",
       "\n",
       "    .dataframe thead th {\n",
       "        text-align: right;\n",
       "    }\n",
       "</style>\n",
       "<table border=\"1\" class=\"dataframe\">\n",
       "  <thead>\n",
       "    <tr style=\"text-align: right;\">\n",
       "      <th></th>\n",
       "      <th>grade</th>\n",
       "      <th>predicted_grade</th>\n",
       "    </tr>\n",
       "  </thead>\n",
       "  <tbody>\n",
       "    <tr>\n",
       "      <th>0</th>\n",
       "      <td>Average</td>\n",
       "      <td>Good</td>\n",
       "    </tr>\n",
       "    <tr>\n",
       "      <th>1</th>\n",
       "      <td>Needs Help</td>\n",
       "      <td>Needs Help</td>\n",
       "    </tr>\n",
       "    <tr>\n",
       "      <th>2</th>\n",
       "      <td>Good</td>\n",
       "      <td>Good</td>\n",
       "    </tr>\n",
       "    <tr>\n",
       "      <th>3</th>\n",
       "      <td>Average</td>\n",
       "      <td>Average</td>\n",
       "    </tr>\n",
       "    <tr>\n",
       "      <th>4</th>\n",
       "      <td>Average</td>\n",
       "      <td>Average</td>\n",
       "    </tr>\n",
       "  </tbody>\n",
       "</table>\n",
       "</div>"
      ],
      "text/plain": [
       "        grade predicted_grade\n",
       "0     Average            Good\n",
       "1  Needs Help      Needs Help\n",
       "2        Good            Good\n",
       "3     Average         Average\n",
       "4     Average         Average"
      ]
     },
     "execution_count": 317,
     "metadata": {},
     "output_type": "execute_result"
    }
   ],
   "source": [
    "df[['grade','predicted_grade']].head()"
   ]
  },
  {
   "cell_type": "code",
   "execution_count": 318,
   "id": "dc446e61",
   "metadata": {},
   "outputs": [
    {
     "name": "stdout",
     "output_type": "stream",
     "text": [
      "Total wrongly classified students: 1829\n",
      "Total students: 15405\n",
      "Percentage of wrongly classified students: 11.87%\n",
      "Students who performed well but were predicted to underperform: 38\n",
      "Students who underperformed but were predicted to do well: 82\n"
     ]
    }
   ],
   "source": [
    "print('Total wrongly classified students: ' + str(len(df[df['grade'] != df['predicted_grade']])))\n",
    "# All the wrong predictions, 1829 occurrences\n",
    "\n",
    "print('Total students: '+ str(len(df)))\n",
    "print('Percentage of wrongly classified students: ' + \n",
    "      \"{:.2f}\".format(len(df[df['grade'] != df['predicted_grade']])/len(df) *100) +'%')\n",
    "\n",
    "\n",
    "print('Students who performed well but were predicted to underperform: ' +\n",
    "      str(len(df[(df['grade'] == 'Good') & (df['predicted_grade']=='Needs Help')]))) \n",
    "# 38 occurrences of Good students predicted to require help\n",
    "\n",
    "print('Students who underperformed but were predicted to do well: ' +\n",
    "    str(len(df[(df['predicted_grade'] == 'Good') & (df['grade']=='Needs Help')]))) \n",
    "# 82 occurrences of students who required help, but actually performed well\n",
    "\n"
   ]
  },
  {
   "cell_type": "markdown",
   "id": "4c113281",
   "metadata": {},
   "source": [
    "- Considering the cut-off for the 3 different classes are final_test scores of 60 and 74, there are only 120 total students that the model got a very incorrect prediction. (Mistaking an underperforming student as a good one and vice-versa)\n",
    "\n",
    "- This number is less than 1% of the whole dataset, and I believe this model would be very beneficial to be deployed for teachers to potentially identify the weaker students and offer their assistance in advance!"
   ]
  },
  {
   "cell_type": "code",
   "execution_count": 319,
   "id": "7fb56b9b",
   "metadata": {},
   "outputs": [],
   "source": [
    "RFF_predictions = RFF.predict(table)\n",
    "\n",
    "df['predicted_test'] = scaler.inverse_transform(RFF_predictions.reshape(-1,1))\n"
   ]
  },
  {
   "cell_type": "code",
   "execution_count": 320,
   "id": "a3511f0a",
   "metadata": {},
   "outputs": [
    {
     "name": "stdout",
     "output_type": "stream",
     "text": [
      "Mean Absolute Error for Approach 1: 1.83\n",
      "Mean Squared Error for Approach 1: 9.31\n"
     ]
    }
   ],
   "source": [
    "print('Mean Absolute Error for Approach 1: ' \n",
    "      +\"{:.2f}\".format(mean_absolute_error(df['final_test'],df['predicted_test'])))\n",
    "print('Mean Squared Error for Approach 1: ' \n",
    "      + \"{:.2f}\".format(mean_squared_error(df['final_test'],df['predicted_test'])))"
   ]
  },
  {
   "cell_type": "code",
   "execution_count": 321,
   "id": "db80f3be",
   "metadata": {},
   "outputs": [
    {
     "data": {
      "text/html": [
       "<div>\n",
       "<style scoped>\n",
       "    .dataframe tbody tr th:only-of-type {\n",
       "        vertical-align: middle;\n",
       "    }\n",
       "\n",
       "    .dataframe tbody tr th {\n",
       "        vertical-align: top;\n",
       "    }\n",
       "\n",
       "    .dataframe thead th {\n",
       "        text-align: right;\n",
       "    }\n",
       "</style>\n",
       "<table border=\"1\" class=\"dataframe\">\n",
       "  <thead>\n",
       "    <tr style=\"text-align: right;\">\n",
       "      <th></th>\n",
       "      <th>final_test</th>\n",
       "      <th>predicted_test</th>\n",
       "    </tr>\n",
       "  </thead>\n",
       "  <tbody>\n",
       "    <tr>\n",
       "      <th>0</th>\n",
       "      <td>69.0</td>\n",
       "      <td>81.630000</td>\n",
       "    </tr>\n",
       "    <tr>\n",
       "      <th>1</th>\n",
       "      <td>47.0</td>\n",
       "      <td>47.580000</td>\n",
       "    </tr>\n",
       "    <tr>\n",
       "      <th>2</th>\n",
       "      <td>85.0</td>\n",
       "      <td>86.110000</td>\n",
       "    </tr>\n",
       "    <tr>\n",
       "      <th>3</th>\n",
       "      <td>64.0</td>\n",
       "      <td>62.855333</td>\n",
       "    </tr>\n",
       "    <tr>\n",
       "      <th>4</th>\n",
       "      <td>66.0</td>\n",
       "      <td>61.430000</td>\n",
       "    </tr>\n",
       "  </tbody>\n",
       "</table>\n",
       "</div>"
      ],
      "text/plain": [
       "   final_test  predicted_test\n",
       "0        69.0       81.630000\n",
       "1        47.0       47.580000\n",
       "2        85.0       86.110000\n",
       "3        64.0       62.855333\n",
       "4        66.0       61.430000"
      ]
     },
     "execution_count": 321,
     "metadata": {},
     "output_type": "execute_result"
    }
   ],
   "source": [
    "df[['final_test','predicted_test']].head()"
   ]
  },
  {
   "cell_type": "code",
   "execution_count": 322,
   "id": "4e4f53b3",
   "metadata": {},
   "outputs": [
    {
     "data": {
      "image/png": "[encoded data removed]",
      "text/plain": [
       "<Figure size 432x288 with 1 Axes>"
      ]
     },
     "metadata": {
      "needs_background": "light"
     },
     "output_type": "display_data"
    }
   ],
   "source": [
    "plt.scatter(df['final_test'],df['predicted_test'], s=1) \n",
    "plt.plot([25,105],[25,105],'k--')\n",
    "\n",
    "# Define a good prediction as +- 5 points away from the actual score\n",
    "plt.plot([20,100],[25,105],'k--') # lower bound\n",
    "plt.plot([30,110],[25,105],'k--') # upper bound\n",
    "plt.show()"
   ]
  },
  {
   "cell_type": "code",
   "execution_count": 323,
   "id": "32cff757",
   "metadata": {},
   "outputs": [
    {
     "name": "stdout",
     "output_type": "stream",
     "text": [
      "Percentage of students whose final score is within +- 5 of their predicted score: 92.25%\n"
     ]
    }
   ],
   "source": [
    "# Using this criteria, 92% of student's scores can be predicted to within +- 5 of the actual score! \n",
    "\n",
    "print('Percentage of students whose final score is within +- 5 of their predicted score: ' +\n",
    "      \"{:.2f}\".format(len(df[abs(df['final_test']-df['predicted_test']) <=5])/len(df) *100) +'%')"
   ]
  },
  {
   "cell_type": "markdown",
   "id": "c157b2c2",
   "metadata": {},
   "source": [
    "## Conclusion\n",
    "\n",
    "- This dataset has been extremely interesting and relevant to a Singaporean context, and kudos to the team for doing the most important job, which is collecting and maintaining this dataset.\n",
    "\n",
    "- Keeping in mind the objective of helping schools identify weaker students prior to examinations, I believe the best approach is to combine both classification and regression.\n",
    "\n",
    "- I would first use the classification model on a student, to determine which class they are likely to be in. As shown previously, there is a slight chance (~12% that this student is wrongly classified).\n",
    "\n",
    "- Of this 12%, only ~2% of them are students who are badly misclassified, as either being in 'Needs Help' when they are actually doing well, or vice-versa.\n",
    "\n",
    "- To work with this 12% of misclassification, the regression model can be used as another check by the school's staff to give a rough estimate of how well the student can perform in the O levels\n",
    "\n",
    "- Hopefully, the usage of the 2 models can allow teachers to identify the students in the 'Needs Help' class, or those in the 'Average' class, and intervene by offering them more help and supervision in their revision! (To the best of their ability)"
   ]
  }
 ],
 "metadata": {
  "kernelspec": {
   "display_name": "Python 3",
   "language": "python",
   "name": "python3"
  },
  "language_info": {
   "codemirror_mode": {
    "name": "ipython",
    "version": 3
   },
   "file_extension": ".py",
   "mimetype": "text/x-python",
   "name": "python",
   "nbconvert_exporter": "python",
   "pygments_lexer": "ipython3",
   "version": "3.8.5"
  }
 },
 "nbformat": 4,
 "nbformat_minor": 5
}
